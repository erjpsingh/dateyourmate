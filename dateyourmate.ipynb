{
 "cells": [
  {
   "cell_type": "markdown",
   "metadata": {},
   "source": [
    "# Date your Mate !!!"
   ]
  },
  {
   "cell_type": "markdown",
   "metadata": {},
   "source": [
    "Candid from the Speed Dating Event !"
   ]
  },
  {
   "cell_type": "markdown",
   "metadata": {},
   "source": [
    "![](speed_dating.jpg)"
   ]
  },
  {
   "cell_type": "markdown",
   "metadata": {},
   "source": [
    "#### Description \n",
    "\n",
    "What influences love at first sight? (Or, at least, love in the first four minutes?) This dataset was compiled by Columbia Business School professors Ray Fisman and Sheena Iyengar for their paper Gender Differences in Mate Selection: Evidence From a Speed Dating Experiment.\n",
    "\n",
    "Data was gathered from participants in experimental speed dating events from 2002-2004. During the events, the attendees would have a four minute \"first date\" with every other participant of the opposite sex. At the end of their four minutes, participants were asked if they would like to see their date again. They were also asked to rate their date on six attributes: Attractiveness, Sincerity, Intelligence, Fun, Ambition, and Shared Interests.\n",
    "\n",
    "The dataset also includes questionnaire data gathered from participants at different points in the process. These fields include: demographics, dating habits, self-perception across key attributes, beliefs on what others find valuable in a mate, and lifestyle information.\n"
   ]
  },
  {
   "cell_type": "markdown",
   "metadata": {},
   "source": [
    "#### Data Exploration tasks\n",
    "\n",
    "<ul>\n",
    "<li>What are the least desirable attributes in a male partner? Does this differ for female partners?</li><br>\n",
    "<li>How important do people think attractiveness is in potential mate selection vs. its real impact?</li><br>\n",
    "<li>Are shared interests more important than a shared racial background?</li><br>\n",
    "<li>Can people accurately predict their own perceived value in the dating market?</li><br>\n",
    "<li>In terms of getting a second date, is it better to be someone's first speed date of the night or their last?</li><br>\n",
    "</ul>"
   ]
  },
  {
   "cell_type": "markdown",
   "metadata": {},
   "source": [
    "<h1>Table of Contents<span class=\"tocSkip\"></span></h1>\n",
    "<div class=\"toc\"><ul class=\"toc-item\"><li><span><a href=\"#Date-your-Mate-!!!\" data-toc-modified-id=\"Date-your-Mate-!!!-1\">Date your Mate !!!</a></span><ul class=\"toc-item\"><li><ul class=\"toc-item\"><li><ul class=\"toc-item\"><li><span><a href=\"#Description\" data-toc-modified-id=\"Description-1.0.0.1\">Description</a></span></li><li><span><a href=\"#Data-Exploration-tasks\" data-toc-modified-id=\"Data-Exploration-tasks-1.0.0.2\">Data Exploration tasks</a></span></li><li><span><a href=\"#Importing-necessary-libraries\" data-toc-modified-id=\"Importing-necessary-libraries-1.0.0.3\">Importing necessary libraries</a></span></li><li><span><a href=\"#Reading-the-dataset\" data-toc-modified-id=\"Reading-the-dataset-1.0.0.4\">Reading the dataset</a></span></li><li><span><a href=\"#Analysing-stats-of-the-data-set\" data-toc-modified-id=\"Analysing-stats-of-the-data-set-1.0.0.5\">Analysing stats of the data set</a></span></li><li><span><a href=\"#Exloring-Null-Values\" data-toc-modified-id=\"Exloring-Null-Values-1.0.0.6\">Exloring Null Values</a></span></li><li><span><a href=\"#Exploring-Age-Factor\" data-toc-modified-id=\"Exploring-Age-Factor-1.0.0.7\">Exploring Age Factor</a></span></li><li><span><a href=\"#Let's-see-how-many-speed-daters-found-a-match\" data-toc-modified-id=\"Let's-see-how-many-speed-daters-found-a-match-1.0.0.8\">Let's see how many speed daters found a match</a></span></li><li><span><a href=\"#Exploring-Gender-factor\" data-toc-modified-id=\"Exploring-Gender-factor-1.0.0.9\">Exploring Gender factor</a></span></li><li><span><a href=\"#Analysing-the-age-and-gender\" data-toc-modified-id=\"Analysing-the-age-and-gender-1.0.0.10\">Analysing the age and gender</a></span></li><li><span><a href=\"#The-Gender-Advantage\" data-toc-modified-id=\"The-Gender-Advantage-1.0.0.11\">The Gender Advantage</a></span></li><li><span><a href=\"#Broken-Hearts\" data-toc-modified-id=\"Broken-Hearts-1.0.0.12\">Broken Hearts</a></span></li><li><span><a href=\"#Professions-most-in-demand\" data-toc-modified-id=\"Professions-most-in-demand-1.0.0.13\">Professions most in demand</a></span></li><li><span><a href=\"#Let's-Analyse-the-GOAL-of-participants\" data-toc-modified-id=\"Let's-Analyse-the-GOAL-of-participants-1.0.0.14\">Let's Analyse the GOAL of participants</a></span></li><li><span><a href=\"#Hobbies\" data-toc-modified-id=\"Hobbies-1.0.0.15\">Hobbies</a></span></li><li><span><a href=\"#Let's-check-out-the-relation-between-SAT-score-and-match\" data-toc-modified-id=\"Let's-check-out-the-relation-between-SAT-score-and-match-1.0.0.16\">Let's check out the relation between SAT score and match</a></span></li><li><span><a href=\"#oops,-we-are-forgeting-about-religion-and-race,-lets-explore\" data-toc-modified-id=\"oops,-we-are-forgeting-about-religion-and-race,-lets-explore-1.0.0.17\">oops, we are forgeting about religion and race, lets explore</a></span></li><li><span><a href=\"#One-of-my-friend-told-me-that-womens-generally-prefer-elder-boyfriends,-let-us-figure-out-from-this-data-set\" data-toc-modified-id=\"One-of-my-friend-told-me-that-womens-generally-prefer-elder-boyfriends,-let-us-figure-out-from-this-data-set-1.0.0.18\">One of my friend told me that womens generally prefer elder boyfriends, let us figure out from this data set</a></span></li><li><span><a href=\"#What-does-a-person-looks-for-in-a-partner-?\" data-toc-modified-id=\"What-does-a-person-looks-for-in-a-partner-?-1.0.0.19\">What does a person looks for in a partner ?</a></span></li></ul></li><li><span><a href=\"#Building-a-machine-learning-model-to-predict-the-chances-of-getting-matched\" data-toc-modified-id=\"Building-a-machine-learning-model-to-predict-the-chances-of-getting-matched-1.0.1\">Building a machine learning model to predict the chances of getting matched</a></span><ul class=\"toc-item\"><li><span><a href=\"#Logistic-Regression\" data-toc-modified-id=\"Logistic-Regression-1.0.1.1\">Logistic Regression</a></span></li><li><span><a href=\"#Reading-a-HTML-form\" data-toc-modified-id=\"Reading-a-HTML-form-1.0.1.2\">Reading a HTML form</a></span></li></ul></li><li><span><a href=\"#Interactive-form-in-jupyter-notebook\" data-toc-modified-id=\"Interactive-form-in-jupyter-notebook-1.0.2\">Interactive form in jupyter notebook</a></span></li></ul></li></ul></li></ul></div>"
   ]
  },
  {
   "cell_type": "markdown",
   "metadata": {},
   "source": [
    "<p style=\"font-size:30px;\">Let's Go !</p>"
   ]
  },
  {
   "cell_type": "markdown",
   "metadata": {},
   "source": [
    "![](giphy.gif)"
   ]
  },
  {
   "cell_type": "markdown",
   "metadata": {},
   "source": [
    "#### Importing necessary libraries"
   ]
  },
  {
   "cell_type": "code",
   "execution_count": 1,
   "metadata": {},
   "outputs": [],
   "source": [
    "import numpy as np\n",
    "import pandas as pd\n",
    "import matplotlib.pyplot as plt\n",
    "import seaborn as sns"
   ]
  },
  {
   "cell_type": "code",
   "execution_count": 2,
   "metadata": {},
   "outputs": [],
   "source": [
    "### this class will be used in formating the output.\n",
    "class color:\n",
    "   PURPLE = '\\033[95m'\n",
    "   CYAN = '\\033[96m'\n",
    "   DARKCYAN = '\\033[36m'\n",
    "   BLUE = '\\033[94m'\n",
    "   GREEN = '\\033[92m'\n",
    "   YELLOW = '\\033[93m'\n",
    "   RED = '\\033[91m'\n",
    "   BOLD = '\\033[1m'\n",
    "   UNDERLINE = '\\033[4m'\n",
    "   END = '\\033[0m'"
   ]
  },
  {
   "cell_type": "markdown",
   "metadata": {},
   "source": [
    "#### Reading the dataset"
   ]
  },
  {
   "cell_type": "code",
   "execution_count": 3,
   "metadata": {},
   "outputs": [
    {
     "name": "stdout",
     "output_type": "stream",
     "text": [
      "total 20260\r\n",
      "-rw-r--r-- 1 jasp jasp   34012 Mar 28 09:10  box.gif\r\n",
      "-rw-r--r-- 1 jasp jasp  143426 Mar 28 07:52  Bunny.html\r\n",
      "-rw-r--r-- 1 jasp jasp 1320377 Mar 28 08:53  business.gif\r\n",
      "-rw-r--r-- 1 jasp jasp 3606768 Mar 28 09:28  bye.gif\r\n",
      "-rw-r--r-- 1 jasp jasp  697302 Mar 28 09:30  dateyourmate.ipynb\r\n",
      "-rw-r--r-- 1 jasp jasp    2526 Mar 28 06:45  form.html\r\n",
      "-rw-r--r-- 1 jasp jasp   25033 Mar 28 09:14  form.png\r\n",
      "-rw-r--r-- 1 jasp jasp 2483014 Mar 28 08:02  giphy.gif\r\n",
      "-rw-r--r-- 1 jasp jasp 1744033 Mar 28 08:41  girl.gif\r\n",
      "-rw-r--r-- 1 jasp jasp 2929577 Mar 28 08:31  jerry.gif\r\n",
      "-rw-r--r-- 1 jasp jasp  220287 Mar 28 09:04  look.gif\r\n",
      "-rw-r--r-- 1 jasp jasp     290 Mar 10 22:56  README.md\r\n",
      "-rw-r--r-- 1 jasp jasp 1943083 Mar 28 09:18  sad.gif\r\n",
      "-rw-r--r-- 1 jasp jasp 5192296 Mar 10 22:56 'Speed Dating Data.csv'\r\n",
      "-rw-r--r-- 1 jasp jasp  161792 Mar 10 22:56 'Speed Dating Data Key.doc'\r\n",
      "-rw-r--r-- 1 jasp jasp  200747 Mar 19 13:13  speed_dating.jpg\r\n"
     ]
    }
   ],
   "source": [
    "#checking the directory for the list of files\n",
    "!ls -l"
   ]
  },
  {
   "cell_type": "code",
   "execution_count": 4,
   "metadata": {},
   "outputs": [],
   "source": [
    "# reading the csv file\n",
    "df = pd.read_csv(\"Speed Dating Data.csv\", encoding='unicode_escape')   \n",
    "# we have used encoding because there is some non-ascii character in the dictionary and it can't be encoded/decoded. "
   ]
  },
  {
   "cell_type": "markdown",
   "metadata": {},
   "source": [
    "#### Analysing stats of the data set"
   ]
  },
  {
   "cell_type": "code",
   "execution_count": 5,
   "metadata": {},
   "outputs": [
    {
     "name": "stdout",
     "output_type": "stream",
     "text": [
      "Dataset has \u001b[1m8378\u001b[0m rows & \u001b[1m195 columns\n"
     ]
    }
   ],
   "source": [
    "# checking number of rows and columns \n",
    "print(\"Dataset has \" + color.BOLD + str(df.shape[0]) +  color.END + \" rows & \" + color.BOLD + str(df.shape[1]) + \" columns\")"
   ]
  },
  {
   "cell_type": "code",
   "execution_count": 6,
   "metadata": {},
   "outputs": [],
   "source": [
    "#some initial adjustments , to view complete dataset\n",
    "pd.set_option('display.max_columns', None)\n",
    "pd.set_option('display.max_rows', None)"
   ]
  },
  {
   "cell_type": "code",
   "execution_count": 7,
   "metadata": {},
   "outputs": [
    {
     "data": {
      "text/html": [
       "<div>\n",
       "<style scoped>\n",
       "    .dataframe tbody tr th:only-of-type {\n",
       "        vertical-align: middle;\n",
       "    }\n",
       "\n",
       "    .dataframe tbody tr th {\n",
       "        vertical-align: top;\n",
       "    }\n",
       "\n",
       "    .dataframe thead th {\n",
       "        text-align: right;\n",
       "    }\n",
       "</style>\n",
       "<table border=\"1\" class=\"dataframe\">\n",
       "  <thead>\n",
       "    <tr style=\"text-align: right;\">\n",
       "      <th></th>\n",
       "      <th>iid</th>\n",
       "      <th>id</th>\n",
       "      <th>gender</th>\n",
       "      <th>idg</th>\n",
       "      <th>condtn</th>\n",
       "      <th>wave</th>\n",
       "      <th>round</th>\n",
       "      <th>position</th>\n",
       "      <th>positin1</th>\n",
       "      <th>order</th>\n",
       "      <th>partner</th>\n",
       "      <th>pid</th>\n",
       "      <th>match</th>\n",
       "      <th>int_corr</th>\n",
       "      <th>samerace</th>\n",
       "      <th>age_o</th>\n",
       "      <th>race_o</th>\n",
       "      <th>pf_o_att</th>\n",
       "      <th>pf_o_sin</th>\n",
       "      <th>pf_o_int</th>\n",
       "      <th>pf_o_fun</th>\n",
       "      <th>pf_o_amb</th>\n",
       "      <th>pf_o_sha</th>\n",
       "      <th>dec_o</th>\n",
       "      <th>attr_o</th>\n",
       "      <th>sinc_o</th>\n",
       "      <th>intel_o</th>\n",
       "      <th>fun_o</th>\n",
       "      <th>amb_o</th>\n",
       "      <th>shar_o</th>\n",
       "      <th>like_o</th>\n",
       "      <th>prob_o</th>\n",
       "      <th>met_o</th>\n",
       "      <th>age</th>\n",
       "      <th>field</th>\n",
       "      <th>field_cd</th>\n",
       "      <th>undergra</th>\n",
       "      <th>mn_sat</th>\n",
       "      <th>tuition</th>\n",
       "      <th>race</th>\n",
       "      <th>imprace</th>\n",
       "      <th>imprelig</th>\n",
       "      <th>from</th>\n",
       "      <th>zipcode</th>\n",
       "      <th>income</th>\n",
       "      <th>goal</th>\n",
       "      <th>date</th>\n",
       "      <th>go_out</th>\n",
       "      <th>career</th>\n",
       "      <th>career_c</th>\n",
       "      <th>sports</th>\n",
       "      <th>tvsports</th>\n",
       "      <th>exercise</th>\n",
       "      <th>dining</th>\n",
       "      <th>museums</th>\n",
       "      <th>art</th>\n",
       "      <th>hiking</th>\n",
       "      <th>gaming</th>\n",
       "      <th>clubbing</th>\n",
       "      <th>reading</th>\n",
       "      <th>tv</th>\n",
       "      <th>theater</th>\n",
       "      <th>movies</th>\n",
       "      <th>concerts</th>\n",
       "      <th>music</th>\n",
       "      <th>shopping</th>\n",
       "      <th>yoga</th>\n",
       "      <th>exphappy</th>\n",
       "      <th>expnum</th>\n",
       "      <th>attr1_1</th>\n",
       "      <th>sinc1_1</th>\n",
       "      <th>intel1_1</th>\n",
       "      <th>fun1_1</th>\n",
       "      <th>amb1_1</th>\n",
       "      <th>shar1_1</th>\n",
       "      <th>attr4_1</th>\n",
       "      <th>sinc4_1</th>\n",
       "      <th>intel4_1</th>\n",
       "      <th>fun4_1</th>\n",
       "      <th>amb4_1</th>\n",
       "      <th>shar4_1</th>\n",
       "      <th>attr2_1</th>\n",
       "      <th>sinc2_1</th>\n",
       "      <th>intel2_1</th>\n",
       "      <th>fun2_1</th>\n",
       "      <th>amb2_1</th>\n",
       "      <th>shar2_1</th>\n",
       "      <th>attr3_1</th>\n",
       "      <th>sinc3_1</th>\n",
       "      <th>fun3_1</th>\n",
       "      <th>intel3_1</th>\n",
       "      <th>amb3_1</th>\n",
       "      <th>attr5_1</th>\n",
       "      <th>sinc5_1</th>\n",
       "      <th>intel5_1</th>\n",
       "      <th>fun5_1</th>\n",
       "      <th>amb5_1</th>\n",
       "      <th>dec</th>\n",
       "      <th>attr</th>\n",
       "      <th>sinc</th>\n",
       "      <th>intel</th>\n",
       "      <th>fun</th>\n",
       "      <th>amb</th>\n",
       "      <th>shar</th>\n",
       "      <th>like</th>\n",
       "      <th>prob</th>\n",
       "      <th>met</th>\n",
       "      <th>match_es</th>\n",
       "      <th>attr1_s</th>\n",
       "      <th>sinc1_s</th>\n",
       "      <th>intel1_s</th>\n",
       "      <th>fun1_s</th>\n",
       "      <th>amb1_s</th>\n",
       "      <th>shar1_s</th>\n",
       "      <th>attr3_s</th>\n",
       "      <th>sinc3_s</th>\n",
       "      <th>intel3_s</th>\n",
       "      <th>fun3_s</th>\n",
       "      <th>amb3_s</th>\n",
       "      <th>satis_2</th>\n",
       "      <th>length</th>\n",
       "      <th>numdat_2</th>\n",
       "      <th>attr7_2</th>\n",
       "      <th>sinc7_2</th>\n",
       "      <th>intel7_2</th>\n",
       "      <th>fun7_2</th>\n",
       "      <th>amb7_2</th>\n",
       "      <th>shar7_2</th>\n",
       "      <th>attr1_2</th>\n",
       "      <th>sinc1_2</th>\n",
       "      <th>intel1_2</th>\n",
       "      <th>fun1_2</th>\n",
       "      <th>amb1_2</th>\n",
       "      <th>shar1_2</th>\n",
       "      <th>attr4_2</th>\n",
       "      <th>sinc4_2</th>\n",
       "      <th>intel4_2</th>\n",
       "      <th>fun4_2</th>\n",
       "      <th>amb4_2</th>\n",
       "      <th>shar4_2</th>\n",
       "      <th>attr2_2</th>\n",
       "      <th>sinc2_2</th>\n",
       "      <th>intel2_2</th>\n",
       "      <th>fun2_2</th>\n",
       "      <th>amb2_2</th>\n",
       "      <th>shar2_2</th>\n",
       "      <th>attr3_2</th>\n",
       "      <th>sinc3_2</th>\n",
       "      <th>intel3_2</th>\n",
       "      <th>fun3_2</th>\n",
       "      <th>amb3_2</th>\n",
       "      <th>attr5_2</th>\n",
       "      <th>sinc5_2</th>\n",
       "      <th>intel5_2</th>\n",
       "      <th>fun5_2</th>\n",
       "      <th>amb5_2</th>\n",
       "      <th>you_call</th>\n",
       "      <th>them_cal</th>\n",
       "      <th>date_3</th>\n",
       "      <th>numdat_3</th>\n",
       "      <th>num_in_3</th>\n",
       "      <th>attr1_3</th>\n",
       "      <th>sinc1_3</th>\n",
       "      <th>intel1_3</th>\n",
       "      <th>fun1_3</th>\n",
       "      <th>amb1_3</th>\n",
       "      <th>shar1_3</th>\n",
       "      <th>attr7_3</th>\n",
       "      <th>sinc7_3</th>\n",
       "      <th>intel7_3</th>\n",
       "      <th>fun7_3</th>\n",
       "      <th>amb7_3</th>\n",
       "      <th>shar7_3</th>\n",
       "      <th>attr4_3</th>\n",
       "      <th>sinc4_3</th>\n",
       "      <th>intel4_3</th>\n",
       "      <th>fun4_3</th>\n",
       "      <th>amb4_3</th>\n",
       "      <th>shar4_3</th>\n",
       "      <th>attr2_3</th>\n",
       "      <th>sinc2_3</th>\n",
       "      <th>intel2_3</th>\n",
       "      <th>fun2_3</th>\n",
       "      <th>amb2_3</th>\n",
       "      <th>shar2_3</th>\n",
       "      <th>attr3_3</th>\n",
       "      <th>sinc3_3</th>\n",
       "      <th>intel3_3</th>\n",
       "      <th>fun3_3</th>\n",
       "      <th>amb3_3</th>\n",
       "      <th>attr5_3</th>\n",
       "      <th>sinc5_3</th>\n",
       "      <th>intel5_3</th>\n",
       "      <th>fun5_3</th>\n",
       "      <th>amb5_3</th>\n",
       "    </tr>\n",
       "  </thead>\n",
       "  <tbody>\n",
       "    <tr>\n",
       "      <th>0</th>\n",
       "      <td>1</td>\n",
       "      <td>1.0</td>\n",
       "      <td>0</td>\n",
       "      <td>1</td>\n",
       "      <td>1</td>\n",
       "      <td>1</td>\n",
       "      <td>10</td>\n",
       "      <td>7</td>\n",
       "      <td>NaN</td>\n",
       "      <td>4</td>\n",
       "      <td>1</td>\n",
       "      <td>11.0</td>\n",
       "      <td>0</td>\n",
       "      <td>0.14</td>\n",
       "      <td>0</td>\n",
       "      <td>27.0</td>\n",
       "      <td>2.0</td>\n",
       "      <td>35.0</td>\n",
       "      <td>20.0</td>\n",
       "      <td>20.0</td>\n",
       "      <td>20.0</td>\n",
       "      <td>0.0</td>\n",
       "      <td>5.0</td>\n",
       "      <td>0</td>\n",
       "      <td>6.0</td>\n",
       "      <td>8.0</td>\n",
       "      <td>8.0</td>\n",
       "      <td>8.0</td>\n",
       "      <td>8.0</td>\n",
       "      <td>6.0</td>\n",
       "      <td>7.0</td>\n",
       "      <td>4.0</td>\n",
       "      <td>2.0</td>\n",
       "      <td>21.0</td>\n",
       "      <td>Law</td>\n",
       "      <td>1.0</td>\n",
       "      <td>NaN</td>\n",
       "      <td>NaN</td>\n",
       "      <td>NaN</td>\n",
       "      <td>4.0</td>\n",
       "      <td>2.0</td>\n",
       "      <td>4.0</td>\n",
       "      <td>Chicago</td>\n",
       "      <td>60,521</td>\n",
       "      <td>69,487.00</td>\n",
       "      <td>2.0</td>\n",
       "      <td>7.0</td>\n",
       "      <td>1.0</td>\n",
       "      <td>lawyer</td>\n",
       "      <td>NaN</td>\n",
       "      <td>9.0</td>\n",
       "      <td>2.0</td>\n",
       "      <td>8.0</td>\n",
       "      <td>9.0</td>\n",
       "      <td>1.0</td>\n",
       "      <td>1.0</td>\n",
       "      <td>5.0</td>\n",
       "      <td>1.0</td>\n",
       "      <td>5.0</td>\n",
       "      <td>6.0</td>\n",
       "      <td>9.0</td>\n",
       "      <td>1.0</td>\n",
       "      <td>10.0</td>\n",
       "      <td>10.0</td>\n",
       "      <td>9.0</td>\n",
       "      <td>8.0</td>\n",
       "      <td>1.0</td>\n",
       "      <td>3.0</td>\n",
       "      <td>2.0</td>\n",
       "      <td>15.0</td>\n",
       "      <td>20.0</td>\n",
       "      <td>20.0</td>\n",
       "      <td>15.0</td>\n",
       "      <td>15.0</td>\n",
       "      <td>15.0</td>\n",
       "      <td>NaN</td>\n",
       "      <td>NaN</td>\n",
       "      <td>NaN</td>\n",
       "      <td>NaN</td>\n",
       "      <td>NaN</td>\n",
       "      <td>NaN</td>\n",
       "      <td>35.0</td>\n",
       "      <td>20.0</td>\n",
       "      <td>15.0</td>\n",
       "      <td>20.0</td>\n",
       "      <td>5.0</td>\n",
       "      <td>5.0</td>\n",
       "      <td>6.0</td>\n",
       "      <td>8.0</td>\n",
       "      <td>8.0</td>\n",
       "      <td>8.0</td>\n",
       "      <td>7.0</td>\n",
       "      <td>NaN</td>\n",
       "      <td>NaN</td>\n",
       "      <td>NaN</td>\n",
       "      <td>NaN</td>\n",
       "      <td>NaN</td>\n",
       "      <td>1</td>\n",
       "      <td>6.0</td>\n",
       "      <td>9.0</td>\n",
       "      <td>7.0</td>\n",
       "      <td>7.0</td>\n",
       "      <td>6.0</td>\n",
       "      <td>5.0</td>\n",
       "      <td>7.0</td>\n",
       "      <td>6.0</td>\n",
       "      <td>2.0</td>\n",
       "      <td>4.0</td>\n",
       "      <td>NaN</td>\n",
       "      <td>NaN</td>\n",
       "      <td>NaN</td>\n",
       "      <td>NaN</td>\n",
       "      <td>NaN</td>\n",
       "      <td>NaN</td>\n",
       "      <td>NaN</td>\n",
       "      <td>NaN</td>\n",
       "      <td>NaN</td>\n",
       "      <td>NaN</td>\n",
       "      <td>NaN</td>\n",
       "      <td>6.0</td>\n",
       "      <td>2.0</td>\n",
       "      <td>1.0</td>\n",
       "      <td>NaN</td>\n",
       "      <td>NaN</td>\n",
       "      <td>NaN</td>\n",
       "      <td>NaN</td>\n",
       "      <td>NaN</td>\n",
       "      <td>NaN</td>\n",
       "      <td>19.44</td>\n",
       "      <td>16.67</td>\n",
       "      <td>13.89</td>\n",
       "      <td>22.22</td>\n",
       "      <td>11.11</td>\n",
       "      <td>16.67</td>\n",
       "      <td>NaN</td>\n",
       "      <td>NaN</td>\n",
       "      <td>NaN</td>\n",
       "      <td>NaN</td>\n",
       "      <td>NaN</td>\n",
       "      <td>NaN</td>\n",
       "      <td>NaN</td>\n",
       "      <td>NaN</td>\n",
       "      <td>NaN</td>\n",
       "      <td>NaN</td>\n",
       "      <td>NaN</td>\n",
       "      <td>NaN</td>\n",
       "      <td>6.0</td>\n",
       "      <td>7.0</td>\n",
       "      <td>8.0</td>\n",
       "      <td>7.0</td>\n",
       "      <td>6.0</td>\n",
       "      <td>NaN</td>\n",
       "      <td>NaN</td>\n",
       "      <td>NaN</td>\n",
       "      <td>NaN</td>\n",
       "      <td>NaN</td>\n",
       "      <td>1.0</td>\n",
       "      <td>1.0</td>\n",
       "      <td>0.0</td>\n",
       "      <td>NaN</td>\n",
       "      <td>NaN</td>\n",
       "      <td>15.0</td>\n",
       "      <td>20.0</td>\n",
       "      <td>20.0</td>\n",
       "      <td>15.0</td>\n",
       "      <td>15.0</td>\n",
       "      <td>15.0</td>\n",
       "      <td>NaN</td>\n",
       "      <td>NaN</td>\n",
       "      <td>NaN</td>\n",
       "      <td>NaN</td>\n",
       "      <td>NaN</td>\n",
       "      <td>NaN</td>\n",
       "      <td>NaN</td>\n",
       "      <td>NaN</td>\n",
       "      <td>NaN</td>\n",
       "      <td>NaN</td>\n",
       "      <td>NaN</td>\n",
       "      <td>NaN</td>\n",
       "      <td>NaN</td>\n",
       "      <td>NaN</td>\n",
       "      <td>NaN</td>\n",
       "      <td>NaN</td>\n",
       "      <td>NaN</td>\n",
       "      <td>NaN</td>\n",
       "      <td>5.0</td>\n",
       "      <td>7.0</td>\n",
       "      <td>7.0</td>\n",
       "      <td>7.0</td>\n",
       "      <td>7.0</td>\n",
       "      <td>NaN</td>\n",
       "      <td>NaN</td>\n",
       "      <td>NaN</td>\n",
       "      <td>NaN</td>\n",
       "      <td>NaN</td>\n",
       "    </tr>\n",
       "    <tr>\n",
       "      <th>1</th>\n",
       "      <td>1</td>\n",
       "      <td>1.0</td>\n",
       "      <td>0</td>\n",
       "      <td>1</td>\n",
       "      <td>1</td>\n",
       "      <td>1</td>\n",
       "      <td>10</td>\n",
       "      <td>7</td>\n",
       "      <td>NaN</td>\n",
       "      <td>3</td>\n",
       "      <td>2</td>\n",
       "      <td>12.0</td>\n",
       "      <td>0</td>\n",
       "      <td>0.54</td>\n",
       "      <td>0</td>\n",
       "      <td>22.0</td>\n",
       "      <td>2.0</td>\n",
       "      <td>60.0</td>\n",
       "      <td>0.0</td>\n",
       "      <td>0.0</td>\n",
       "      <td>40.0</td>\n",
       "      <td>0.0</td>\n",
       "      <td>0.0</td>\n",
       "      <td>0</td>\n",
       "      <td>7.0</td>\n",
       "      <td>8.0</td>\n",
       "      <td>10.0</td>\n",
       "      <td>7.0</td>\n",
       "      <td>7.0</td>\n",
       "      <td>5.0</td>\n",
       "      <td>8.0</td>\n",
       "      <td>4.0</td>\n",
       "      <td>2.0</td>\n",
       "      <td>21.0</td>\n",
       "      <td>Law</td>\n",
       "      <td>1.0</td>\n",
       "      <td>NaN</td>\n",
       "      <td>NaN</td>\n",
       "      <td>NaN</td>\n",
       "      <td>4.0</td>\n",
       "      <td>2.0</td>\n",
       "      <td>4.0</td>\n",
       "      <td>Chicago</td>\n",
       "      <td>60,521</td>\n",
       "      <td>69,487.00</td>\n",
       "      <td>2.0</td>\n",
       "      <td>7.0</td>\n",
       "      <td>1.0</td>\n",
       "      <td>lawyer</td>\n",
       "      <td>NaN</td>\n",
       "      <td>9.0</td>\n",
       "      <td>2.0</td>\n",
       "      <td>8.0</td>\n",
       "      <td>9.0</td>\n",
       "      <td>1.0</td>\n",
       "      <td>1.0</td>\n",
       "      <td>5.0</td>\n",
       "      <td>1.0</td>\n",
       "      <td>5.0</td>\n",
       "      <td>6.0</td>\n",
       "      <td>9.0</td>\n",
       "      <td>1.0</td>\n",
       "      <td>10.0</td>\n",
       "      <td>10.0</td>\n",
       "      <td>9.0</td>\n",
       "      <td>8.0</td>\n",
       "      <td>1.0</td>\n",
       "      <td>3.0</td>\n",
       "      <td>2.0</td>\n",
       "      <td>15.0</td>\n",
       "      <td>20.0</td>\n",
       "      <td>20.0</td>\n",
       "      <td>15.0</td>\n",
       "      <td>15.0</td>\n",
       "      <td>15.0</td>\n",
       "      <td>NaN</td>\n",
       "      <td>NaN</td>\n",
       "      <td>NaN</td>\n",
       "      <td>NaN</td>\n",
       "      <td>NaN</td>\n",
       "      <td>NaN</td>\n",
       "      <td>35.0</td>\n",
       "      <td>20.0</td>\n",
       "      <td>15.0</td>\n",
       "      <td>20.0</td>\n",
       "      <td>5.0</td>\n",
       "      <td>5.0</td>\n",
       "      <td>6.0</td>\n",
       "      <td>8.0</td>\n",
       "      <td>8.0</td>\n",
       "      <td>8.0</td>\n",
       "      <td>7.0</td>\n",
       "      <td>NaN</td>\n",
       "      <td>NaN</td>\n",
       "      <td>NaN</td>\n",
       "      <td>NaN</td>\n",
       "      <td>NaN</td>\n",
       "      <td>1</td>\n",
       "      <td>7.0</td>\n",
       "      <td>8.0</td>\n",
       "      <td>7.0</td>\n",
       "      <td>8.0</td>\n",
       "      <td>5.0</td>\n",
       "      <td>6.0</td>\n",
       "      <td>7.0</td>\n",
       "      <td>5.0</td>\n",
       "      <td>1.0</td>\n",
       "      <td>4.0</td>\n",
       "      <td>NaN</td>\n",
       "      <td>NaN</td>\n",
       "      <td>NaN</td>\n",
       "      <td>NaN</td>\n",
       "      <td>NaN</td>\n",
       "      <td>NaN</td>\n",
       "      <td>NaN</td>\n",
       "      <td>NaN</td>\n",
       "      <td>NaN</td>\n",
       "      <td>NaN</td>\n",
       "      <td>NaN</td>\n",
       "      <td>6.0</td>\n",
       "      <td>2.0</td>\n",
       "      <td>1.0</td>\n",
       "      <td>NaN</td>\n",
       "      <td>NaN</td>\n",
       "      <td>NaN</td>\n",
       "      <td>NaN</td>\n",
       "      <td>NaN</td>\n",
       "      <td>NaN</td>\n",
       "      <td>19.44</td>\n",
       "      <td>16.67</td>\n",
       "      <td>13.89</td>\n",
       "      <td>22.22</td>\n",
       "      <td>11.11</td>\n",
       "      <td>16.67</td>\n",
       "      <td>NaN</td>\n",
       "      <td>NaN</td>\n",
       "      <td>NaN</td>\n",
       "      <td>NaN</td>\n",
       "      <td>NaN</td>\n",
       "      <td>NaN</td>\n",
       "      <td>NaN</td>\n",
       "      <td>NaN</td>\n",
       "      <td>NaN</td>\n",
       "      <td>NaN</td>\n",
       "      <td>NaN</td>\n",
       "      <td>NaN</td>\n",
       "      <td>6.0</td>\n",
       "      <td>7.0</td>\n",
       "      <td>8.0</td>\n",
       "      <td>7.0</td>\n",
       "      <td>6.0</td>\n",
       "      <td>NaN</td>\n",
       "      <td>NaN</td>\n",
       "      <td>NaN</td>\n",
       "      <td>NaN</td>\n",
       "      <td>NaN</td>\n",
       "      <td>1.0</td>\n",
       "      <td>1.0</td>\n",
       "      <td>0.0</td>\n",
       "      <td>NaN</td>\n",
       "      <td>NaN</td>\n",
       "      <td>15.0</td>\n",
       "      <td>20.0</td>\n",
       "      <td>20.0</td>\n",
       "      <td>15.0</td>\n",
       "      <td>15.0</td>\n",
       "      <td>15.0</td>\n",
       "      <td>NaN</td>\n",
       "      <td>NaN</td>\n",
       "      <td>NaN</td>\n",
       "      <td>NaN</td>\n",
       "      <td>NaN</td>\n",
       "      <td>NaN</td>\n",
       "      <td>NaN</td>\n",
       "      <td>NaN</td>\n",
       "      <td>NaN</td>\n",
       "      <td>NaN</td>\n",
       "      <td>NaN</td>\n",
       "      <td>NaN</td>\n",
       "      <td>NaN</td>\n",
       "      <td>NaN</td>\n",
       "      <td>NaN</td>\n",
       "      <td>NaN</td>\n",
       "      <td>NaN</td>\n",
       "      <td>NaN</td>\n",
       "      <td>5.0</td>\n",
       "      <td>7.0</td>\n",
       "      <td>7.0</td>\n",
       "      <td>7.0</td>\n",
       "      <td>7.0</td>\n",
       "      <td>NaN</td>\n",
       "      <td>NaN</td>\n",
       "      <td>NaN</td>\n",
       "      <td>NaN</td>\n",
       "      <td>NaN</td>\n",
       "    </tr>\n",
       "    <tr>\n",
       "      <th>2</th>\n",
       "      <td>1</td>\n",
       "      <td>1.0</td>\n",
       "      <td>0</td>\n",
       "      <td>1</td>\n",
       "      <td>1</td>\n",
       "      <td>1</td>\n",
       "      <td>10</td>\n",
       "      <td>7</td>\n",
       "      <td>NaN</td>\n",
       "      <td>10</td>\n",
       "      <td>3</td>\n",
       "      <td>13.0</td>\n",
       "      <td>1</td>\n",
       "      <td>0.16</td>\n",
       "      <td>1</td>\n",
       "      <td>22.0</td>\n",
       "      <td>4.0</td>\n",
       "      <td>19.0</td>\n",
       "      <td>18.0</td>\n",
       "      <td>19.0</td>\n",
       "      <td>18.0</td>\n",
       "      <td>14.0</td>\n",
       "      <td>12.0</td>\n",
       "      <td>1</td>\n",
       "      <td>10.0</td>\n",
       "      <td>10.0</td>\n",
       "      <td>10.0</td>\n",
       "      <td>10.0</td>\n",
       "      <td>10.0</td>\n",
       "      <td>10.0</td>\n",
       "      <td>10.0</td>\n",
       "      <td>10.0</td>\n",
       "      <td>1.0</td>\n",
       "      <td>21.0</td>\n",
       "      <td>Law</td>\n",
       "      <td>1.0</td>\n",
       "      <td>NaN</td>\n",
       "      <td>NaN</td>\n",
       "      <td>NaN</td>\n",
       "      <td>4.0</td>\n",
       "      <td>2.0</td>\n",
       "      <td>4.0</td>\n",
       "      <td>Chicago</td>\n",
       "      <td>60,521</td>\n",
       "      <td>69,487.00</td>\n",
       "      <td>2.0</td>\n",
       "      <td>7.0</td>\n",
       "      <td>1.0</td>\n",
       "      <td>lawyer</td>\n",
       "      <td>NaN</td>\n",
       "      <td>9.0</td>\n",
       "      <td>2.0</td>\n",
       "      <td>8.0</td>\n",
       "      <td>9.0</td>\n",
       "      <td>1.0</td>\n",
       "      <td>1.0</td>\n",
       "      <td>5.0</td>\n",
       "      <td>1.0</td>\n",
       "      <td>5.0</td>\n",
       "      <td>6.0</td>\n",
       "      <td>9.0</td>\n",
       "      <td>1.0</td>\n",
       "      <td>10.0</td>\n",
       "      <td>10.0</td>\n",
       "      <td>9.0</td>\n",
       "      <td>8.0</td>\n",
       "      <td>1.0</td>\n",
       "      <td>3.0</td>\n",
       "      <td>2.0</td>\n",
       "      <td>15.0</td>\n",
       "      <td>20.0</td>\n",
       "      <td>20.0</td>\n",
       "      <td>15.0</td>\n",
       "      <td>15.0</td>\n",
       "      <td>15.0</td>\n",
       "      <td>NaN</td>\n",
       "      <td>NaN</td>\n",
       "      <td>NaN</td>\n",
       "      <td>NaN</td>\n",
       "      <td>NaN</td>\n",
       "      <td>NaN</td>\n",
       "      <td>35.0</td>\n",
       "      <td>20.0</td>\n",
       "      <td>15.0</td>\n",
       "      <td>20.0</td>\n",
       "      <td>5.0</td>\n",
       "      <td>5.0</td>\n",
       "      <td>6.0</td>\n",
       "      <td>8.0</td>\n",
       "      <td>8.0</td>\n",
       "      <td>8.0</td>\n",
       "      <td>7.0</td>\n",
       "      <td>NaN</td>\n",
       "      <td>NaN</td>\n",
       "      <td>NaN</td>\n",
       "      <td>NaN</td>\n",
       "      <td>NaN</td>\n",
       "      <td>1</td>\n",
       "      <td>5.0</td>\n",
       "      <td>8.0</td>\n",
       "      <td>9.0</td>\n",
       "      <td>8.0</td>\n",
       "      <td>5.0</td>\n",
       "      <td>7.0</td>\n",
       "      <td>7.0</td>\n",
       "      <td>NaN</td>\n",
       "      <td>1.0</td>\n",
       "      <td>4.0</td>\n",
       "      <td>NaN</td>\n",
       "      <td>NaN</td>\n",
       "      <td>NaN</td>\n",
       "      <td>NaN</td>\n",
       "      <td>NaN</td>\n",
       "      <td>NaN</td>\n",
       "      <td>NaN</td>\n",
       "      <td>NaN</td>\n",
       "      <td>NaN</td>\n",
       "      <td>NaN</td>\n",
       "      <td>NaN</td>\n",
       "      <td>6.0</td>\n",
       "      <td>2.0</td>\n",
       "      <td>1.0</td>\n",
       "      <td>NaN</td>\n",
       "      <td>NaN</td>\n",
       "      <td>NaN</td>\n",
       "      <td>NaN</td>\n",
       "      <td>NaN</td>\n",
       "      <td>NaN</td>\n",
       "      <td>19.44</td>\n",
       "      <td>16.67</td>\n",
       "      <td>13.89</td>\n",
       "      <td>22.22</td>\n",
       "      <td>11.11</td>\n",
       "      <td>16.67</td>\n",
       "      <td>NaN</td>\n",
       "      <td>NaN</td>\n",
       "      <td>NaN</td>\n",
       "      <td>NaN</td>\n",
       "      <td>NaN</td>\n",
       "      <td>NaN</td>\n",
       "      <td>NaN</td>\n",
       "      <td>NaN</td>\n",
       "      <td>NaN</td>\n",
       "      <td>NaN</td>\n",
       "      <td>NaN</td>\n",
       "      <td>NaN</td>\n",
       "      <td>6.0</td>\n",
       "      <td>7.0</td>\n",
       "      <td>8.0</td>\n",
       "      <td>7.0</td>\n",
       "      <td>6.0</td>\n",
       "      <td>NaN</td>\n",
       "      <td>NaN</td>\n",
       "      <td>NaN</td>\n",
       "      <td>NaN</td>\n",
       "      <td>NaN</td>\n",
       "      <td>1.0</td>\n",
       "      <td>1.0</td>\n",
       "      <td>0.0</td>\n",
       "      <td>NaN</td>\n",
       "      <td>NaN</td>\n",
       "      <td>15.0</td>\n",
       "      <td>20.0</td>\n",
       "      <td>20.0</td>\n",
       "      <td>15.0</td>\n",
       "      <td>15.0</td>\n",
       "      <td>15.0</td>\n",
       "      <td>NaN</td>\n",
       "      <td>NaN</td>\n",
       "      <td>NaN</td>\n",
       "      <td>NaN</td>\n",
       "      <td>NaN</td>\n",
       "      <td>NaN</td>\n",
       "      <td>NaN</td>\n",
       "      <td>NaN</td>\n",
       "      <td>NaN</td>\n",
       "      <td>NaN</td>\n",
       "      <td>NaN</td>\n",
       "      <td>NaN</td>\n",
       "      <td>NaN</td>\n",
       "      <td>NaN</td>\n",
       "      <td>NaN</td>\n",
       "      <td>NaN</td>\n",
       "      <td>NaN</td>\n",
       "      <td>NaN</td>\n",
       "      <td>5.0</td>\n",
       "      <td>7.0</td>\n",
       "      <td>7.0</td>\n",
       "      <td>7.0</td>\n",
       "      <td>7.0</td>\n",
       "      <td>NaN</td>\n",
       "      <td>NaN</td>\n",
       "      <td>NaN</td>\n",
       "      <td>NaN</td>\n",
       "      <td>NaN</td>\n",
       "    </tr>\n",
       "    <tr>\n",
       "      <th>3</th>\n",
       "      <td>1</td>\n",
       "      <td>1.0</td>\n",
       "      <td>0</td>\n",
       "      <td>1</td>\n",
       "      <td>1</td>\n",
       "      <td>1</td>\n",
       "      <td>10</td>\n",
       "      <td>7</td>\n",
       "      <td>NaN</td>\n",
       "      <td>5</td>\n",
       "      <td>4</td>\n",
       "      <td>14.0</td>\n",
       "      <td>1</td>\n",
       "      <td>0.61</td>\n",
       "      <td>0</td>\n",
       "      <td>23.0</td>\n",
       "      <td>2.0</td>\n",
       "      <td>30.0</td>\n",
       "      <td>5.0</td>\n",
       "      <td>15.0</td>\n",
       "      <td>40.0</td>\n",
       "      <td>5.0</td>\n",
       "      <td>5.0</td>\n",
       "      <td>1</td>\n",
       "      <td>7.0</td>\n",
       "      <td>8.0</td>\n",
       "      <td>9.0</td>\n",
       "      <td>8.0</td>\n",
       "      <td>9.0</td>\n",
       "      <td>8.0</td>\n",
       "      <td>7.0</td>\n",
       "      <td>7.0</td>\n",
       "      <td>2.0</td>\n",
       "      <td>21.0</td>\n",
       "      <td>Law</td>\n",
       "      <td>1.0</td>\n",
       "      <td>NaN</td>\n",
       "      <td>NaN</td>\n",
       "      <td>NaN</td>\n",
       "      <td>4.0</td>\n",
       "      <td>2.0</td>\n",
       "      <td>4.0</td>\n",
       "      <td>Chicago</td>\n",
       "      <td>60,521</td>\n",
       "      <td>69,487.00</td>\n",
       "      <td>2.0</td>\n",
       "      <td>7.0</td>\n",
       "      <td>1.0</td>\n",
       "      <td>lawyer</td>\n",
       "      <td>NaN</td>\n",
       "      <td>9.0</td>\n",
       "      <td>2.0</td>\n",
       "      <td>8.0</td>\n",
       "      <td>9.0</td>\n",
       "      <td>1.0</td>\n",
       "      <td>1.0</td>\n",
       "      <td>5.0</td>\n",
       "      <td>1.0</td>\n",
       "      <td>5.0</td>\n",
       "      <td>6.0</td>\n",
       "      <td>9.0</td>\n",
       "      <td>1.0</td>\n",
       "      <td>10.0</td>\n",
       "      <td>10.0</td>\n",
       "      <td>9.0</td>\n",
       "      <td>8.0</td>\n",
       "      <td>1.0</td>\n",
       "      <td>3.0</td>\n",
       "      <td>2.0</td>\n",
       "      <td>15.0</td>\n",
       "      <td>20.0</td>\n",
       "      <td>20.0</td>\n",
       "      <td>15.0</td>\n",
       "      <td>15.0</td>\n",
       "      <td>15.0</td>\n",
       "      <td>NaN</td>\n",
       "      <td>NaN</td>\n",
       "      <td>NaN</td>\n",
       "      <td>NaN</td>\n",
       "      <td>NaN</td>\n",
       "      <td>NaN</td>\n",
       "      <td>35.0</td>\n",
       "      <td>20.0</td>\n",
       "      <td>15.0</td>\n",
       "      <td>20.0</td>\n",
       "      <td>5.0</td>\n",
       "      <td>5.0</td>\n",
       "      <td>6.0</td>\n",
       "      <td>8.0</td>\n",
       "      <td>8.0</td>\n",
       "      <td>8.0</td>\n",
       "      <td>7.0</td>\n",
       "      <td>NaN</td>\n",
       "      <td>NaN</td>\n",
       "      <td>NaN</td>\n",
       "      <td>NaN</td>\n",
       "      <td>NaN</td>\n",
       "      <td>1</td>\n",
       "      <td>7.0</td>\n",
       "      <td>6.0</td>\n",
       "      <td>8.0</td>\n",
       "      <td>7.0</td>\n",
       "      <td>6.0</td>\n",
       "      <td>8.0</td>\n",
       "      <td>7.0</td>\n",
       "      <td>6.0</td>\n",
       "      <td>2.0</td>\n",
       "      <td>4.0</td>\n",
       "      <td>NaN</td>\n",
       "      <td>NaN</td>\n",
       "      <td>NaN</td>\n",
       "      <td>NaN</td>\n",
       "      <td>NaN</td>\n",
       "      <td>NaN</td>\n",
       "      <td>NaN</td>\n",
       "      <td>NaN</td>\n",
       "      <td>NaN</td>\n",
       "      <td>NaN</td>\n",
       "      <td>NaN</td>\n",
       "      <td>6.0</td>\n",
       "      <td>2.0</td>\n",
       "      <td>1.0</td>\n",
       "      <td>NaN</td>\n",
       "      <td>NaN</td>\n",
       "      <td>NaN</td>\n",
       "      <td>NaN</td>\n",
       "      <td>NaN</td>\n",
       "      <td>NaN</td>\n",
       "      <td>19.44</td>\n",
       "      <td>16.67</td>\n",
       "      <td>13.89</td>\n",
       "      <td>22.22</td>\n",
       "      <td>11.11</td>\n",
       "      <td>16.67</td>\n",
       "      <td>NaN</td>\n",
       "      <td>NaN</td>\n",
       "      <td>NaN</td>\n",
       "      <td>NaN</td>\n",
       "      <td>NaN</td>\n",
       "      <td>NaN</td>\n",
       "      <td>NaN</td>\n",
       "      <td>NaN</td>\n",
       "      <td>NaN</td>\n",
       "      <td>NaN</td>\n",
       "      <td>NaN</td>\n",
       "      <td>NaN</td>\n",
       "      <td>6.0</td>\n",
       "      <td>7.0</td>\n",
       "      <td>8.0</td>\n",
       "      <td>7.0</td>\n",
       "      <td>6.0</td>\n",
       "      <td>NaN</td>\n",
       "      <td>NaN</td>\n",
       "      <td>NaN</td>\n",
       "      <td>NaN</td>\n",
       "      <td>NaN</td>\n",
       "      <td>1.0</td>\n",
       "      <td>1.0</td>\n",
       "      <td>0.0</td>\n",
       "      <td>NaN</td>\n",
       "      <td>NaN</td>\n",
       "      <td>15.0</td>\n",
       "      <td>20.0</td>\n",
       "      <td>20.0</td>\n",
       "      <td>15.0</td>\n",
       "      <td>15.0</td>\n",
       "      <td>15.0</td>\n",
       "      <td>NaN</td>\n",
       "      <td>NaN</td>\n",
       "      <td>NaN</td>\n",
       "      <td>NaN</td>\n",
       "      <td>NaN</td>\n",
       "      <td>NaN</td>\n",
       "      <td>NaN</td>\n",
       "      <td>NaN</td>\n",
       "      <td>NaN</td>\n",
       "      <td>NaN</td>\n",
       "      <td>NaN</td>\n",
       "      <td>NaN</td>\n",
       "      <td>NaN</td>\n",
       "      <td>NaN</td>\n",
       "      <td>NaN</td>\n",
       "      <td>NaN</td>\n",
       "      <td>NaN</td>\n",
       "      <td>NaN</td>\n",
       "      <td>5.0</td>\n",
       "      <td>7.0</td>\n",
       "      <td>7.0</td>\n",
       "      <td>7.0</td>\n",
       "      <td>7.0</td>\n",
       "      <td>NaN</td>\n",
       "      <td>NaN</td>\n",
       "      <td>NaN</td>\n",
       "      <td>NaN</td>\n",
       "      <td>NaN</td>\n",
       "    </tr>\n",
       "    <tr>\n",
       "      <th>4</th>\n",
       "      <td>1</td>\n",
       "      <td>1.0</td>\n",
       "      <td>0</td>\n",
       "      <td>1</td>\n",
       "      <td>1</td>\n",
       "      <td>1</td>\n",
       "      <td>10</td>\n",
       "      <td>7</td>\n",
       "      <td>NaN</td>\n",
       "      <td>7</td>\n",
       "      <td>5</td>\n",
       "      <td>15.0</td>\n",
       "      <td>1</td>\n",
       "      <td>0.21</td>\n",
       "      <td>0</td>\n",
       "      <td>24.0</td>\n",
       "      <td>3.0</td>\n",
       "      <td>30.0</td>\n",
       "      <td>10.0</td>\n",
       "      <td>20.0</td>\n",
       "      <td>10.0</td>\n",
       "      <td>10.0</td>\n",
       "      <td>20.0</td>\n",
       "      <td>1</td>\n",
       "      <td>8.0</td>\n",
       "      <td>7.0</td>\n",
       "      <td>9.0</td>\n",
       "      <td>6.0</td>\n",
       "      <td>9.0</td>\n",
       "      <td>7.0</td>\n",
       "      <td>8.0</td>\n",
       "      <td>6.0</td>\n",
       "      <td>2.0</td>\n",
       "      <td>21.0</td>\n",
       "      <td>Law</td>\n",
       "      <td>1.0</td>\n",
       "      <td>NaN</td>\n",
       "      <td>NaN</td>\n",
       "      <td>NaN</td>\n",
       "      <td>4.0</td>\n",
       "      <td>2.0</td>\n",
       "      <td>4.0</td>\n",
       "      <td>Chicago</td>\n",
       "      <td>60,521</td>\n",
       "      <td>69,487.00</td>\n",
       "      <td>2.0</td>\n",
       "      <td>7.0</td>\n",
       "      <td>1.0</td>\n",
       "      <td>lawyer</td>\n",
       "      <td>NaN</td>\n",
       "      <td>9.0</td>\n",
       "      <td>2.0</td>\n",
       "      <td>8.0</td>\n",
       "      <td>9.0</td>\n",
       "      <td>1.0</td>\n",
       "      <td>1.0</td>\n",
       "      <td>5.0</td>\n",
       "      <td>1.0</td>\n",
       "      <td>5.0</td>\n",
       "      <td>6.0</td>\n",
       "      <td>9.0</td>\n",
       "      <td>1.0</td>\n",
       "      <td>10.0</td>\n",
       "      <td>10.0</td>\n",
       "      <td>9.0</td>\n",
       "      <td>8.0</td>\n",
       "      <td>1.0</td>\n",
       "      <td>3.0</td>\n",
       "      <td>2.0</td>\n",
       "      <td>15.0</td>\n",
       "      <td>20.0</td>\n",
       "      <td>20.0</td>\n",
       "      <td>15.0</td>\n",
       "      <td>15.0</td>\n",
       "      <td>15.0</td>\n",
       "      <td>NaN</td>\n",
       "      <td>NaN</td>\n",
       "      <td>NaN</td>\n",
       "      <td>NaN</td>\n",
       "      <td>NaN</td>\n",
       "      <td>NaN</td>\n",
       "      <td>35.0</td>\n",
       "      <td>20.0</td>\n",
       "      <td>15.0</td>\n",
       "      <td>20.0</td>\n",
       "      <td>5.0</td>\n",
       "      <td>5.0</td>\n",
       "      <td>6.0</td>\n",
       "      <td>8.0</td>\n",
       "      <td>8.0</td>\n",
       "      <td>8.0</td>\n",
       "      <td>7.0</td>\n",
       "      <td>NaN</td>\n",
       "      <td>NaN</td>\n",
       "      <td>NaN</td>\n",
       "      <td>NaN</td>\n",
       "      <td>NaN</td>\n",
       "      <td>1</td>\n",
       "      <td>5.0</td>\n",
       "      <td>6.0</td>\n",
       "      <td>7.0</td>\n",
       "      <td>7.0</td>\n",
       "      <td>6.0</td>\n",
       "      <td>6.0</td>\n",
       "      <td>6.0</td>\n",
       "      <td>6.0</td>\n",
       "      <td>2.0</td>\n",
       "      <td>4.0</td>\n",
       "      <td>NaN</td>\n",
       "      <td>NaN</td>\n",
       "      <td>NaN</td>\n",
       "      <td>NaN</td>\n",
       "      <td>NaN</td>\n",
       "      <td>NaN</td>\n",
       "      <td>NaN</td>\n",
       "      <td>NaN</td>\n",
       "      <td>NaN</td>\n",
       "      <td>NaN</td>\n",
       "      <td>NaN</td>\n",
       "      <td>6.0</td>\n",
       "      <td>2.0</td>\n",
       "      <td>1.0</td>\n",
       "      <td>NaN</td>\n",
       "      <td>NaN</td>\n",
       "      <td>NaN</td>\n",
       "      <td>NaN</td>\n",
       "      <td>NaN</td>\n",
       "      <td>NaN</td>\n",
       "      <td>19.44</td>\n",
       "      <td>16.67</td>\n",
       "      <td>13.89</td>\n",
       "      <td>22.22</td>\n",
       "      <td>11.11</td>\n",
       "      <td>16.67</td>\n",
       "      <td>NaN</td>\n",
       "      <td>NaN</td>\n",
       "      <td>NaN</td>\n",
       "      <td>NaN</td>\n",
       "      <td>NaN</td>\n",
       "      <td>NaN</td>\n",
       "      <td>NaN</td>\n",
       "      <td>NaN</td>\n",
       "      <td>NaN</td>\n",
       "      <td>NaN</td>\n",
       "      <td>NaN</td>\n",
       "      <td>NaN</td>\n",
       "      <td>6.0</td>\n",
       "      <td>7.0</td>\n",
       "      <td>8.0</td>\n",
       "      <td>7.0</td>\n",
       "      <td>6.0</td>\n",
       "      <td>NaN</td>\n",
       "      <td>NaN</td>\n",
       "      <td>NaN</td>\n",
       "      <td>NaN</td>\n",
       "      <td>NaN</td>\n",
       "      <td>1.0</td>\n",
       "      <td>1.0</td>\n",
       "      <td>0.0</td>\n",
       "      <td>NaN</td>\n",
       "      <td>NaN</td>\n",
       "      <td>15.0</td>\n",
       "      <td>20.0</td>\n",
       "      <td>20.0</td>\n",
       "      <td>15.0</td>\n",
       "      <td>15.0</td>\n",
       "      <td>15.0</td>\n",
       "      <td>NaN</td>\n",
       "      <td>NaN</td>\n",
       "      <td>NaN</td>\n",
       "      <td>NaN</td>\n",
       "      <td>NaN</td>\n",
       "      <td>NaN</td>\n",
       "      <td>NaN</td>\n",
       "      <td>NaN</td>\n",
       "      <td>NaN</td>\n",
       "      <td>NaN</td>\n",
       "      <td>NaN</td>\n",
       "      <td>NaN</td>\n",
       "      <td>NaN</td>\n",
       "      <td>NaN</td>\n",
       "      <td>NaN</td>\n",
       "      <td>NaN</td>\n",
       "      <td>NaN</td>\n",
       "      <td>NaN</td>\n",
       "      <td>5.0</td>\n",
       "      <td>7.0</td>\n",
       "      <td>7.0</td>\n",
       "      <td>7.0</td>\n",
       "      <td>7.0</td>\n",
       "      <td>NaN</td>\n",
       "      <td>NaN</td>\n",
       "      <td>NaN</td>\n",
       "      <td>NaN</td>\n",
       "      <td>NaN</td>\n",
       "    </tr>\n",
       "  </tbody>\n",
       "</table>\n",
       "</div>"
      ],
      "text/plain": [
       "   iid   id  gender  idg  condtn  wave  round  position  positin1  order  \\\n",
       "0    1  1.0       0    1       1     1     10         7       NaN      4   \n",
       "1    1  1.0       0    1       1     1     10         7       NaN      3   \n",
       "2    1  1.0       0    1       1     1     10         7       NaN     10   \n",
       "3    1  1.0       0    1       1     1     10         7       NaN      5   \n",
       "4    1  1.0       0    1       1     1     10         7       NaN      7   \n",
       "\n",
       "   partner   pid  match  int_corr  samerace  age_o  race_o  pf_o_att  \\\n",
       "0        1  11.0      0      0.14         0   27.0     2.0      35.0   \n",
       "1        2  12.0      0      0.54         0   22.0     2.0      60.0   \n",
       "2        3  13.0      1      0.16         1   22.0     4.0      19.0   \n",
       "3        4  14.0      1      0.61         0   23.0     2.0      30.0   \n",
       "4        5  15.0      1      0.21         0   24.0     3.0      30.0   \n",
       "\n",
       "   pf_o_sin  pf_o_int  pf_o_fun  pf_o_amb  pf_o_sha  dec_o  attr_o  sinc_o  \\\n",
       "0      20.0      20.0      20.0       0.0       5.0      0     6.0     8.0   \n",
       "1       0.0       0.0      40.0       0.0       0.0      0     7.0     8.0   \n",
       "2      18.0      19.0      18.0      14.0      12.0      1    10.0    10.0   \n",
       "3       5.0      15.0      40.0       5.0       5.0      1     7.0     8.0   \n",
       "4      10.0      20.0      10.0      10.0      20.0      1     8.0     7.0   \n",
       "\n",
       "   intel_o  fun_o  amb_o  shar_o  like_o  prob_o  met_o   age field  field_cd  \\\n",
       "0      8.0    8.0    8.0     6.0     7.0     4.0    2.0  21.0   Law       1.0   \n",
       "1     10.0    7.0    7.0     5.0     8.0     4.0    2.0  21.0   Law       1.0   \n",
       "2     10.0   10.0   10.0    10.0    10.0    10.0    1.0  21.0   Law       1.0   \n",
       "3      9.0    8.0    9.0     8.0     7.0     7.0    2.0  21.0   Law       1.0   \n",
       "4      9.0    6.0    9.0     7.0     8.0     6.0    2.0  21.0   Law       1.0   \n",
       "\n",
       "  undergra mn_sat tuition  race  imprace  imprelig     from zipcode  \\\n",
       "0      NaN    NaN     NaN   4.0      2.0       4.0  Chicago  60,521   \n",
       "1      NaN    NaN     NaN   4.0      2.0       4.0  Chicago  60,521   \n",
       "2      NaN    NaN     NaN   4.0      2.0       4.0  Chicago  60,521   \n",
       "3      NaN    NaN     NaN   4.0      2.0       4.0  Chicago  60,521   \n",
       "4      NaN    NaN     NaN   4.0      2.0       4.0  Chicago  60,521   \n",
       "\n",
       "      income  goal  date  go_out  career  career_c  sports  tvsports  \\\n",
       "0  69,487.00   2.0   7.0     1.0  lawyer       NaN     9.0       2.0   \n",
       "1  69,487.00   2.0   7.0     1.0  lawyer       NaN     9.0       2.0   \n",
       "2  69,487.00   2.0   7.0     1.0  lawyer       NaN     9.0       2.0   \n",
       "3  69,487.00   2.0   7.0     1.0  lawyer       NaN     9.0       2.0   \n",
       "4  69,487.00   2.0   7.0     1.0  lawyer       NaN     9.0       2.0   \n",
       "\n",
       "   exercise  dining  museums  art  hiking  gaming  clubbing  reading   tv  \\\n",
       "0       8.0     9.0      1.0  1.0     5.0     1.0       5.0      6.0  9.0   \n",
       "1       8.0     9.0      1.0  1.0     5.0     1.0       5.0      6.0  9.0   \n",
       "2       8.0     9.0      1.0  1.0     5.0     1.0       5.0      6.0  9.0   \n",
       "3       8.0     9.0      1.0  1.0     5.0     1.0       5.0      6.0  9.0   \n",
       "4       8.0     9.0      1.0  1.0     5.0     1.0       5.0      6.0  9.0   \n",
       "\n",
       "   theater  movies  concerts  music  shopping  yoga  exphappy  expnum  \\\n",
       "0      1.0    10.0      10.0    9.0       8.0   1.0       3.0     2.0   \n",
       "1      1.0    10.0      10.0    9.0       8.0   1.0       3.0     2.0   \n",
       "2      1.0    10.0      10.0    9.0       8.0   1.0       3.0     2.0   \n",
       "3      1.0    10.0      10.0    9.0       8.0   1.0       3.0     2.0   \n",
       "4      1.0    10.0      10.0    9.0       8.0   1.0       3.0     2.0   \n",
       "\n",
       "   attr1_1  sinc1_1  intel1_1  fun1_1  amb1_1  shar1_1  attr4_1  sinc4_1  \\\n",
       "0     15.0     20.0      20.0    15.0    15.0     15.0      NaN      NaN   \n",
       "1     15.0     20.0      20.0    15.0    15.0     15.0      NaN      NaN   \n",
       "2     15.0     20.0      20.0    15.0    15.0     15.0      NaN      NaN   \n",
       "3     15.0     20.0      20.0    15.0    15.0     15.0      NaN      NaN   \n",
       "4     15.0     20.0      20.0    15.0    15.0     15.0      NaN      NaN   \n",
       "\n",
       "   intel4_1  fun4_1  amb4_1  shar4_1  attr2_1  sinc2_1  intel2_1  fun2_1  \\\n",
       "0       NaN     NaN     NaN      NaN     35.0     20.0      15.0    20.0   \n",
       "1       NaN     NaN     NaN      NaN     35.0     20.0      15.0    20.0   \n",
       "2       NaN     NaN     NaN      NaN     35.0     20.0      15.0    20.0   \n",
       "3       NaN     NaN     NaN      NaN     35.0     20.0      15.0    20.0   \n",
       "4       NaN     NaN     NaN      NaN     35.0     20.0      15.0    20.0   \n",
       "\n",
       "   amb2_1  shar2_1  attr3_1  sinc3_1  fun3_1  intel3_1  amb3_1  attr5_1  \\\n",
       "0     5.0      5.0      6.0      8.0     8.0       8.0     7.0      NaN   \n",
       "1     5.0      5.0      6.0      8.0     8.0       8.0     7.0      NaN   \n",
       "2     5.0      5.0      6.0      8.0     8.0       8.0     7.0      NaN   \n",
       "3     5.0      5.0      6.0      8.0     8.0       8.0     7.0      NaN   \n",
       "4     5.0      5.0      6.0      8.0     8.0       8.0     7.0      NaN   \n",
       "\n",
       "   sinc5_1  intel5_1  fun5_1  amb5_1  dec  attr  sinc  intel  fun  amb  shar  \\\n",
       "0      NaN       NaN     NaN     NaN    1   6.0   9.0    7.0  7.0  6.0   5.0   \n",
       "1      NaN       NaN     NaN     NaN    1   7.0   8.0    7.0  8.0  5.0   6.0   \n",
       "2      NaN       NaN     NaN     NaN    1   5.0   8.0    9.0  8.0  5.0   7.0   \n",
       "3      NaN       NaN     NaN     NaN    1   7.0   6.0    8.0  7.0  6.0   8.0   \n",
       "4      NaN       NaN     NaN     NaN    1   5.0   6.0    7.0  7.0  6.0   6.0   \n",
       "\n",
       "   like  prob  met  match_es  attr1_s  sinc1_s  intel1_s  fun1_s  amb1_s  \\\n",
       "0   7.0   6.0  2.0       4.0      NaN      NaN       NaN     NaN     NaN   \n",
       "1   7.0   5.0  1.0       4.0      NaN      NaN       NaN     NaN     NaN   \n",
       "2   7.0   NaN  1.0       4.0      NaN      NaN       NaN     NaN     NaN   \n",
       "3   7.0   6.0  2.0       4.0      NaN      NaN       NaN     NaN     NaN   \n",
       "4   6.0   6.0  2.0       4.0      NaN      NaN       NaN     NaN     NaN   \n",
       "\n",
       "   shar1_s  attr3_s  sinc3_s  intel3_s  fun3_s  amb3_s  satis_2  length  \\\n",
       "0      NaN      NaN      NaN       NaN     NaN     NaN      6.0     2.0   \n",
       "1      NaN      NaN      NaN       NaN     NaN     NaN      6.0     2.0   \n",
       "2      NaN      NaN      NaN       NaN     NaN     NaN      6.0     2.0   \n",
       "3      NaN      NaN      NaN       NaN     NaN     NaN      6.0     2.0   \n",
       "4      NaN      NaN      NaN       NaN     NaN     NaN      6.0     2.0   \n",
       "\n",
       "   numdat_2  attr7_2  sinc7_2  intel7_2  fun7_2  amb7_2  shar7_2  attr1_2  \\\n",
       "0       1.0      NaN      NaN       NaN     NaN     NaN      NaN    19.44   \n",
       "1       1.0      NaN      NaN       NaN     NaN     NaN      NaN    19.44   \n",
       "2       1.0      NaN      NaN       NaN     NaN     NaN      NaN    19.44   \n",
       "3       1.0      NaN      NaN       NaN     NaN     NaN      NaN    19.44   \n",
       "4       1.0      NaN      NaN       NaN     NaN     NaN      NaN    19.44   \n",
       "\n",
       "   sinc1_2  intel1_2  fun1_2  amb1_2  shar1_2  attr4_2  sinc4_2  intel4_2  \\\n",
       "0    16.67     13.89   22.22   11.11    16.67      NaN      NaN       NaN   \n",
       "1    16.67     13.89   22.22   11.11    16.67      NaN      NaN       NaN   \n",
       "2    16.67     13.89   22.22   11.11    16.67      NaN      NaN       NaN   \n",
       "3    16.67     13.89   22.22   11.11    16.67      NaN      NaN       NaN   \n",
       "4    16.67     13.89   22.22   11.11    16.67      NaN      NaN       NaN   \n",
       "\n",
       "   fun4_2  amb4_2  shar4_2  attr2_2  sinc2_2  intel2_2  fun2_2  amb2_2  \\\n",
       "0     NaN     NaN      NaN      NaN      NaN       NaN     NaN     NaN   \n",
       "1     NaN     NaN      NaN      NaN      NaN       NaN     NaN     NaN   \n",
       "2     NaN     NaN      NaN      NaN      NaN       NaN     NaN     NaN   \n",
       "3     NaN     NaN      NaN      NaN      NaN       NaN     NaN     NaN   \n",
       "4     NaN     NaN      NaN      NaN      NaN       NaN     NaN     NaN   \n",
       "\n",
       "   shar2_2  attr3_2  sinc3_2  intel3_2  fun3_2  amb3_2  attr5_2  sinc5_2  \\\n",
       "0      NaN      6.0      7.0       8.0     7.0     6.0      NaN      NaN   \n",
       "1      NaN      6.0      7.0       8.0     7.0     6.0      NaN      NaN   \n",
       "2      NaN      6.0      7.0       8.0     7.0     6.0      NaN      NaN   \n",
       "3      NaN      6.0      7.0       8.0     7.0     6.0      NaN      NaN   \n",
       "4      NaN      6.0      7.0       8.0     7.0     6.0      NaN      NaN   \n",
       "\n",
       "   intel5_2  fun5_2  amb5_2  you_call  them_cal  date_3  numdat_3  num_in_3  \\\n",
       "0       NaN     NaN     NaN       1.0       1.0     0.0       NaN       NaN   \n",
       "1       NaN     NaN     NaN       1.0       1.0     0.0       NaN       NaN   \n",
       "2       NaN     NaN     NaN       1.0       1.0     0.0       NaN       NaN   \n",
       "3       NaN     NaN     NaN       1.0       1.0     0.0       NaN       NaN   \n",
       "4       NaN     NaN     NaN       1.0       1.0     0.0       NaN       NaN   \n",
       "\n",
       "   attr1_3  sinc1_3  intel1_3  fun1_3  amb1_3  shar1_3  attr7_3  sinc7_3  \\\n",
       "0     15.0     20.0      20.0    15.0    15.0     15.0      NaN      NaN   \n",
       "1     15.0     20.0      20.0    15.0    15.0     15.0      NaN      NaN   \n",
       "2     15.0     20.0      20.0    15.0    15.0     15.0      NaN      NaN   \n",
       "3     15.0     20.0      20.0    15.0    15.0     15.0      NaN      NaN   \n",
       "4     15.0     20.0      20.0    15.0    15.0     15.0      NaN      NaN   \n",
       "\n",
       "   intel7_3  fun7_3  amb7_3  shar7_3  attr4_3  sinc4_3  intel4_3  fun4_3  \\\n",
       "0       NaN     NaN     NaN      NaN      NaN      NaN       NaN     NaN   \n",
       "1       NaN     NaN     NaN      NaN      NaN      NaN       NaN     NaN   \n",
       "2       NaN     NaN     NaN      NaN      NaN      NaN       NaN     NaN   \n",
       "3       NaN     NaN     NaN      NaN      NaN      NaN       NaN     NaN   \n",
       "4       NaN     NaN     NaN      NaN      NaN      NaN       NaN     NaN   \n",
       "\n",
       "   amb4_3  shar4_3  attr2_3  sinc2_3  intel2_3  fun2_3  amb2_3  shar2_3  \\\n",
       "0     NaN      NaN      NaN      NaN       NaN     NaN     NaN      NaN   \n",
       "1     NaN      NaN      NaN      NaN       NaN     NaN     NaN      NaN   \n",
       "2     NaN      NaN      NaN      NaN       NaN     NaN     NaN      NaN   \n",
       "3     NaN      NaN      NaN      NaN       NaN     NaN     NaN      NaN   \n",
       "4     NaN      NaN      NaN      NaN       NaN     NaN     NaN      NaN   \n",
       "\n",
       "   attr3_3  sinc3_3  intel3_3  fun3_3  amb3_3  attr5_3  sinc5_3  intel5_3  \\\n",
       "0      5.0      7.0       7.0     7.0     7.0      NaN      NaN       NaN   \n",
       "1      5.0      7.0       7.0     7.0     7.0      NaN      NaN       NaN   \n",
       "2      5.0      7.0       7.0     7.0     7.0      NaN      NaN       NaN   \n",
       "3      5.0      7.0       7.0     7.0     7.0      NaN      NaN       NaN   \n",
       "4      5.0      7.0       7.0     7.0     7.0      NaN      NaN       NaN   \n",
       "\n",
       "   fun5_3  amb5_3  \n",
       "0     NaN     NaN  \n",
       "1     NaN     NaN  \n",
       "2     NaN     NaN  \n",
       "3     NaN     NaN  \n",
       "4     NaN     NaN  "
      ]
     },
     "execution_count": 7,
     "metadata": {},
     "output_type": "execute_result"
    }
   ],
   "source": [
    "# Retriving first 5 rows of the data set \n",
    "df.head()"
   ]
  },
  {
   "cell_type": "markdown",
   "metadata": {},
   "source": [
    "#### Exloring Null Values  "
   ]
  },
  {
   "cell_type": "code",
   "execution_count": 8,
   "metadata": {},
   "outputs": [],
   "source": [
    "# checking for null values\n",
    "\n",
    "#creating a series object with count of nulls\n",
    "nulls = df.isna().sum()"
   ]
  },
  {
   "cell_type": "code",
   "execution_count": 9,
   "metadata": {},
   "outputs": [
    {
     "data": {
      "text/plain": [
       "<BarContainer object of 195 artists>"
      ]
     },
     "execution_count": 9,
     "metadata": {},
     "output_type": "execute_result"
    },
    {
     "data": {
      "image/png": "[encoded data removed]",
      "text/plain": [
       "<Figure size 3600x3600 with 1 Axes>"
      ]
     },
     "metadata": {
      "needs_background": "light"
     },
     "output_type": "display_data"
    }
   ],
   "source": [
    "# Visualization of nulls in dataset\n",
    "\n",
    "#creating a fig object with appropriate size\n",
    "fig= plt.figure(1, figsize=(50, 50))\n",
    "#adding one subplot\n",
    "ax=fig.add_subplot(111)\n",
    "#passing data\n",
    "plt.barh(nulls.index,nulls)\n",
    "#Naming conventionsplt.ylabel(\"Columns\")\n",
    "plt.xlabel(\"Count\")\n",
    "plt.title(\"Horizontal Chart of Null Values\")\n",
    "\n",
    "plt.barh(nulls.index, nulls.values)"
   ]
  },
  {
   "cell_type": "markdown",
   "metadata": {},
   "source": [
    "From the peek at the data we had above, there are a ton of fields with NaNs. A lot of NaNs. There are 8,378 rows and a bunch of fields have thousands of NaNs and probably bad practice to use imputation to guess the values.We will explore this later."
   ]
  },
  {
   "cell_type": "markdown",
   "metadata": {},
   "source": [
    "#### Exploring Age Factor"
   ]
  },
  {
   "cell_type": "code",
   "execution_count": 10,
   "metadata": {},
   "outputs": [
    {
     "name": "stderr",
     "output_type": "stream",
     "text": [
      "/home/jasp/anaconda3/lib/python3.7/site-packages/numpy/lib/histograms.py:839: RuntimeWarning: invalid value encountered in greater_equal\n",
      "  keep = (tmp_a >= first_edge)\n",
      "/home/jasp/anaconda3/lib/python3.7/site-packages/numpy/lib/histograms.py:840: RuntimeWarning: invalid value encountered in less_equal\n",
      "  keep &= (tmp_a <= last_edge)\n"
     ]
    },
    {
     "data": {
      "text/plain": [
       "(array([  30.,  346., 1549., 1700., 1928., 1335.,  574.,  335.,  313.,\n",
       "         105.,   24.,   18.,   20.,    0.,    0.,    0.,    0.,    0.,\n",
       "           0.,    6.]),\n",
       " array([18.  , 19.85, 21.7 , 23.55, 25.4 , 27.25, 29.1 , 30.95, 32.8 ,\n",
       "        34.65, 36.5 , 38.35, 40.2 , 42.05, 43.9 , 45.75, 47.6 , 49.45,\n",
       "        51.3 , 53.15, 55.  ]),\n",
       " <a list of 20 Patch objects>)"
      ]
     },
     "execution_count": 10,
     "metadata": {},
     "output_type": "execute_result"
    },
    {
     "data": {
      "image/png": "[encoded data removed]",
      "text/plain": [
       "<Figure size 432x288 with 1 Axes>"
      ]
     },
     "metadata": {
      "needs_background": "light"
     },
     "output_type": "display_data"
    }
   ],
   "source": [
    "#basic histogram to check the age factor.\n",
    "plt.hist(df.age,bins=20, facecolor='green', edgecolor = 'white')"
   ]
  },
  {
   "cell_type": "markdown",
   "metadata": {},
   "source": [
    " So most of the participants were in <b>mid twenties to early thirties</b>, let's find out the exact count"
   ]
  },
  {
   "cell_type": "code",
   "execution_count": 11,
   "metadata": {},
   "outputs": [
    {
     "name": "stdout",
     "output_type": "stream",
     "text": [
      "\u001b[1m64\u001b[0m % of the people are between 25 & 35\n"
     ]
    }
   ],
   "source": [
    "print(color.BOLD + str(int((len(df.age[(df.age>=25) & (df.age<=35)]) / df.shape[0])*100)) + color.END, \"% of the people are between 25 & 35\")"
   ]
  },
  {
   "cell_type": "markdown",
   "metadata": {},
   "source": [
    "#### Let's see how many speed daters found a match "
   ]
  },
  {
   "cell_type": "code",
   "execution_count": 12,
   "metadata": {},
   "outputs": [
    {
     "data": {
      "text/html": [
       "<div>\n",
       "<style scoped>\n",
       "    .dataframe tbody tr th:only-of-type {\n",
       "        vertical-align: middle;\n",
       "    }\n",
       "\n",
       "    .dataframe tbody tr th {\n",
       "        vertical-align: top;\n",
       "    }\n",
       "\n",
       "    .dataframe thead th {\n",
       "        text-align: right;\n",
       "    }\n",
       "</style>\n",
       "<table border=\"1\" class=\"dataframe\">\n",
       "  <thead>\n",
       "    <tr style=\"text-align: right;\">\n",
       "      <th>col_0</th>\n",
       "      <th>count</th>\n",
       "    </tr>\n",
       "    <tr>\n",
       "      <th>match</th>\n",
       "      <th></th>\n",
       "    </tr>\n",
       "  </thead>\n",
       "  <tbody>\n",
       "    <tr>\n",
       "      <th>0</th>\n",
       "      <td>6998</td>\n",
       "    </tr>\n",
       "    <tr>\n",
       "      <th>1</th>\n",
       "      <td>1380</td>\n",
       "    </tr>\n",
       "  </tbody>\n",
       "</table>\n",
       "</div>"
      ],
      "text/plain": [
       "col_0  count\n",
       "match       \n",
       "0       6998\n",
       "1       1380"
      ]
     },
     "execution_count": 12,
     "metadata": {},
     "output_type": "execute_result"
    }
   ],
   "source": [
    "temp_df_matched_count = pd.crosstab(index=df.match,columns=\"count\")\n",
    "temp_df_matched_count"
   ]
  },
  {
   "cell_type": "markdown",
   "metadata": {},
   "source": [
    "<b>1380</b> candidates were successfull "
   ]
  },
  {
   "cell_type": "code",
   "execution_count": 251,
   "metadata": {},
   "outputs": [
    {
     "name": "stdout",
     "output_type": "stream",
     "text": [
      "\u001b[1m16\u001b[0m % actually found the second date\n"
     ]
    }
   ],
   "source": [
    "# convert it to percentage\n",
    "print(color.BOLD + str(int((temp_df_matched_count.iloc[1,] / df.shape[0]) * 100)) + color.END + \" % actually found the second date\")"
   ]
  },
  {
   "cell_type": "markdown",
   "metadata": {},
   "source": [
    "<p style=\"font-size:30px;\">That's not good lets explore other stuffs !</p>"
   ]
  },
  {
   "cell_type": "markdown",
   "metadata": {},
   "source": [
    "![](jerry.gif)"
   ]
  },
  {
   "cell_type": "markdown",
   "metadata": {},
   "source": [
    "#### Exploring Gender factor"
   ]
  },
  {
   "cell_type": "code",
   "execution_count": 13,
   "metadata": {},
   "outputs": [
    {
     "data": {
      "text/plain": [
       "0"
      ]
     },
     "execution_count": 13,
     "metadata": {},
     "output_type": "execute_result"
    }
   ],
   "source": [
    "# Cheking if there are some NA in gender \n",
    "df.gender.isna().sum()"
   ]
  },
  {
   "cell_type": "code",
   "execution_count": 14,
   "metadata": {},
   "outputs": [
    {
     "data": {
      "text/plain": [
       "array([0, 1])"
      ]
     },
     "execution_count": 14,
     "metadata": {},
     "output_type": "execute_result"
    }
   ],
   "source": [
    "# Checking the levels of this categorical variables \n",
    "df.gender.unique()"
   ]
  },
  {
   "cell_type": "markdown",
   "metadata": {},
   "source": [
    "We only have two values , <b>0 - Females & 1 - Males "
   ]
  },
  {
   "cell_type": "code",
   "execution_count": 15,
   "metadata": {},
   "outputs": [
    {
     "data": {
      "text/plain": [
       "1    4194\n",
       "0    4184\n",
       "Name: gender, dtype: int64"
      ]
     },
     "execution_count": 15,
     "metadata": {},
     "output_type": "execute_result"
    }
   ],
   "source": [
    "# Checking the participation levels\n",
    "df.gender.value_counts()"
   ]
  },
  {
   "cell_type": "markdown",
   "metadata": {},
   "source": [
    "As expected, we are having approximately <b>equal participation !"
   ]
  },
  {
   "cell_type": "markdown",
   "metadata": {},
   "source": [
    "#### Analysing the age and gender"
   ]
  },
  {
   "cell_type": "code",
   "execution_count": 16,
   "metadata": {},
   "outputs": [
    {
     "data": {
      "text/plain": [
       "gender  age \n",
       "0       19.0     10\n",
       "        20.0     30\n",
       "        21.0    183\n",
       "        22.0    364\n",
       "        23.0    507\n",
       "        24.0    454\n",
       "        25.0    455\n",
       "        26.0    492\n",
       "        27.0    441\n",
       "        28.0    316\n",
       "        29.0    227\n",
       "        30.0    211\n",
       "        31.0     54\n",
       "        32.0     57\n",
       "        33.0    125\n",
       "        34.0     83\n",
       "        35.0     60\n",
       "        36.0     25\n",
       "        38.0     19\n",
       "        55.0      6\n",
       "1       18.0     10\n",
       "        19.0     10\n",
       "        20.0     25\n",
       "        21.0    108\n",
       "        22.0    291\n",
       "        23.0    387\n",
       "        24.0    409\n",
       "        25.0    382\n",
       "        26.0    377\n",
       "        27.0    618\n",
       "        28.0    430\n",
       "        29.0    362\n",
       "        30.0    363\n",
       "        31.0     71\n",
       "        32.0    153\n",
       "        33.0     36\n",
       "        34.0     69\n",
       "        36.0     20\n",
       "        37.0      5\n",
       "        39.0     18\n",
       "        42.0     20\n",
       "Name: age, dtype: int64"
      ]
     },
     "execution_count": 16,
     "metadata": {},
     "output_type": "execute_result"
    }
   ],
   "source": [
    "#Here we are using group by \n",
    "gb = df.groupby(['gender','age']).age.count()\n",
    "gb"
   ]
  },
  {
   "cell_type": "code",
   "execution_count": 17,
   "metadata": {},
   "outputs": [
    {
     "data": {
      "image/png": "[encoded data removed]",
      "text/plain": [
       "<Figure size 1080x432 with 1 Axes>"
      ]
     },
     "metadata": {
      "needs_background": "light"
     },
     "output_type": "display_data"
    }
   ],
   "source": [
    "# lets plot in line plot to study multivariate relation ship.\n",
    "%matplotlib inline\n",
    "\n",
    "fig = plt.figure(figsize=(15,6))\n",
    "ax = fig.add_subplot(1,1,1)\n",
    "ax.plot(gb[0],'g', label = 'Female')\n",
    "ax.plot(gb[1],'b',label = 'Male')\n",
    "ax.legend(loc='best')\n",
    "\n",
    "ax.tick_params(axis='x', which='major', labelsize=15)\n",
    "ax.tick_params(axis='y', which='major', labelsize=15)"
   ]
  },
  {
   "cell_type": "markdown",
   "metadata": {},
   "source": [
    "This is interesting, <b>females have started earlier and the peak for male is between 25 to 30."
   ]
  },
  {
   "cell_type": "markdown",
   "metadata": {},
   "source": [
    "#### The Gender Advantage"
   ]
  },
  {
   "cell_type": "markdown",
   "metadata": {},
   "source": [
    "I wonder... how many of each gender are there and does that affect the other person's decision? <b>That is, do women receive more positive final decisions from the other person (dec_o) than men do?"
   ]
  },
  {
   "cell_type": "code",
   "execution_count": 18,
   "metadata": {},
   "outputs": [
    {
     "data": {
      "text/plain": [
       "gender  dec_o\n",
       "0       0        2164\n",
       "        1        1955\n",
       "1       0        2652\n",
       "        1        1512\n",
       "Name: age, dtype: int64"
      ]
     },
     "execution_count": 18,
     "metadata": {},
     "output_type": "execute_result"
    }
   ],
   "source": [
    "# Another group by \n",
    "gb = df.groupby(['gender','dec_o']).age.count()\n",
    "gb"
   ]
  },
  {
   "cell_type": "code",
   "execution_count": 19,
   "metadata": {},
   "outputs": [
    {
     "data": {
      "text/plain": [
       "Int64Index([0, 1], dtype='int64', name='dec_o')"
      ]
     },
     "execution_count": 19,
     "metadata": {},
     "output_type": "execute_result"
    }
   ],
   "source": [
    "gb[0].index"
   ]
  },
  {
   "cell_type": "code",
   "execution_count": 20,
   "metadata": {},
   "outputs": [
    {
     "data": {
      "image/png": "[encoded data removed]",
      "text/plain": [
       "<Figure size 576x432 with 2 Axes>"
      ]
     },
     "metadata": {
      "needs_background": "light"
     },
     "output_type": "display_data"
    }
   ],
   "source": [
    "%matplotlib inline\n",
    "\n",
    "fig = plt.figure(figsize=(8,6))\n",
    "ax1 = fig.add_subplot(2,2,1)\n",
    "ax2 = fig.add_subplot(2,2,2)\n",
    "\n",
    "\n",
    "ax1.bar(['no','yes'],gb[0].values)\n",
    "ax2.bar(['no','yes'],gb[1].values)\n",
    "ax1.title.set_text(\"Female\")\n",
    "ax2.title.set_text(\"Male\")\n",
    "\n",
    "ax1.tick_params(axis='x', which='major', labelsize=10)\n",
    "ax1.tick_params(axis='y', which='major', labelsize=10)\n",
    "\n",
    "\n",
    "ax2.tick_params(axis='x', which='major', labelsize=10)\n",
    "ax2.tick_params(axis='y', which='major', labelsize=10)\n",
    "\n"
   ]
  },
  {
   "cell_type": "markdown",
   "metadata": {},
   "source": [
    "It looks like women received about 1750 'no' and about 1600 'yes' for the decision question \"Would you like to see him or her again?\". Men received about 2050 'no' and about 1300 'yes'. In other words, <b>men are more likely to be rejected by women than women are to be rejected by men (wahwah)</b>. "
   ]
  },
  {
   "cell_type": "markdown",
   "metadata": {},
   "source": [
    "<p style=\"font-size:30px;\">poor guys !</p>"
   ]
  },
  {
   "cell_type": "markdown",
   "metadata": {},
   "source": [
    "![](girl.gif)"
   ]
  },
  {
   "cell_type": "markdown",
   "metadata": {},
   "source": [
    "#### Broken Hearts"
   ]
  },
  {
   "cell_type": "markdown",
   "metadata": {},
   "source": [
    "Broken Hearts ie people who were rejected by opposite sex, but they were interested in second date."
   ]
  },
  {
   "cell_type": "code",
   "execution_count": 21,
   "metadata": {},
   "outputs": [
    {
     "name": "stdout",
     "output_type": "stream",
     "text": [
      "So it seems \u001b[1m51 % of participants unfortunately had their heart broken\n"
     ]
    }
   ],
   "source": [
    "# dec is a variable which says if someone was interested , this was taken later in survey\n",
    "# dec_0 is the actual variable of decision \n",
    "\n",
    "broken_heart = len(df[(df['dec_o']==0) & (df['dec']==1)]) + len(df[(df['dec_o']==1) & (df['dec']==0)])\n",
    "print(\"So it seems \" + color.BOLD +  str(int((broken_heart/len(df.index))*100)) + \" % of participants unfortunately had their heart broken\")"
   ]
  },
  {
   "cell_type": "markdown",
   "metadata": {},
   "source": [
    "#### Professions most in demand "
   ]
  },
  {
   "cell_type": "markdown",
   "metadata": {},
   "source": [
    "Let's first see the professions of participants "
   ]
  },
  {
   "cell_type": "code",
   "execution_count": 269,
   "metadata": {},
   "outputs": [
    {
     "data": {
      "image/png": "[encoded data removed]",
      "text/plain": [
       "<Figure size 1440x1440 with 1 Axes>"
      ]
     },
     "metadata": {
      "needs_background": "light"
     },
     "output_type": "display_data"
    }
   ],
   "source": [
    "# be mindfull here we are using seaborn \n",
    "\n",
    "field_cd = ['Law','Math','Social/Psy','MedicalScience,Pharmaceuticals,BioTech ',\n",
    "                   'Eng','Eglish/Creative Writing/ Journalism','History/Religion/Philosophy',\n",
    "                  'Business/Econ/Finance','Education, Academia','Biological Sciences/Chemistry/Physics',\n",
    "                  'Social Work','Undergrad/undecided','Political Science/International Affairs',\n",
    "                  'Film','Fine Arts/Arts Administration','Languages','Architecture','Others']\n",
    "g = plt.figure(figsize=(20,20))\n",
    "g = sns.countplot(y=\"field_cd\",data=df, hue='gender')\n",
    "g.set(yticklabels=field_cd)\n",
    "g = plt.yticks(rotation=0,fontsize=15)"
   ]
  },
  {
   "cell_type": "markdown",
   "metadata": {},
   "source": [
    "Now, lets interpret whic one is the most preffered one "
   ]
  },
  {
   "cell_type": "code",
   "execution_count": 60,
   "metadata": {},
   "outputs": [
    {
     "data": {
      "text/plain": [
       "field\n",
       "Business (Finance & Marketing)                 0\n",
       "financial math                                 0\n",
       "International Politics                         0\n",
       "international affairs/international finance    0\n",
       "Earth and Environmental Science                0\n",
       "Stats                                          0\n",
       "speech pathology                               0\n",
       "Economics and Political Science                0\n",
       "physics (astrophysics)                         0\n",
       "Public Health                                  0\n",
       "Name: dec_o, dtype: int64"
      ]
     },
     "metadata": {},
     "output_type": "display_data"
    },
    {
     "data": {
      "text/plain": [
       "field\n",
       "Finance                    47\n",
       "Electrical Engineering     52\n",
       "business                   52\n",
       "law                        54\n",
       "Psychology                 62\n",
       "International Affairs     107\n",
       "Social Work               152\n",
       "MBA                       209\n",
       "Law                       209\n",
       "Business                  262\n",
       "Name: dec_o, dtype: int64"
      ]
     },
     "metadata": {},
     "output_type": "display_data"
    }
   ],
   "source": [
    "# This time we are using pivot table for interpretation\n",
    "df_new = pd.pivot_table(df[['field','dec_o']], index=[\"field\"], aggfunc=np.sum)\n",
    "display(df_new.dec_o.sort_values(ascending=True).head(10), df_new.dec_o.sort_values(ascending=True).tail(10))"
   ]
  },
  {
   "cell_type": "markdown",
   "metadata": {},
   "source": [
    "Here, we got to know <b>Business people and MBA's</b>  received most positive responces."
   ]
  },
  {
   "cell_type": "markdown",
   "metadata": {},
   "source": [
    "<p style=\"font-size:30px;\">Business scholars can pamper themselves.</p>"
   ]
  },
  {
   "cell_type": "markdown",
   "metadata": {},
   "source": [
    "![](business.gif)"
   ]
  },
  {
   "cell_type": "markdown",
   "metadata": {},
   "source": [
    "#### Let's Analyse the GOAL of participants"
   ]
  },
  {
   "cell_type": "code",
   "execution_count": 271,
   "metadata": {},
   "outputs": [
    {
     "data": {
      "image/png": "[encoded data removed]",
      "text/plain": [
       "<Figure size 720x720 with 1 Axes>"
      ]
     },
     "metadata": {
      "needs_background": "light"
     },
     "output_type": "display_data"
    }
   ],
   "source": [
    "#### again be mind full we are using seaborn\n",
    "goal = ['Seemed like a fun night out','To meet new people','To get a date','Looking for a serious relationship',\n",
    "        'To say I did it','Other']\n",
    "g = plt.figure(figsize=(10,10))\n",
    "g = sns.countplot(y=\"goal\",data=df, hue='gender')\n",
    "g.set(yticklabels=goal)\n",
    "g = plt.yticks(rotation=0,fontsize=15)"
   ]
  },
  {
   "cell_type": "markdown",
   "metadata": {},
   "source": [
    "<b>wait wait </b>, this seems interesting very few people were actually looking for a date or a serious relationship, lets see if they were the one who got the match or not."
   ]
  },
  {
   "cell_type": "code",
   "execution_count": 22,
   "metadata": {},
   "outputs": [
    {
     "name": "stdout",
     "output_type": "stream",
     "text": [
      "There were only  \u001b[95m\u001b[1m932 \u001b[0m individuals who were into serious dating.\n",
      " Of which only  \u001b[95m\u001b[1m682\u001b[0m  got the date. \n",
      " Which means \u001b[1m\u001b[92m73  %\u001b[0m  success rate.\n"
     ]
    }
   ],
   "source": [
    "# 3-to get a date \n",
    "# 4 is to get a serious relationship\n",
    "print(\"There were only \", color.PURPLE + color.BOLD+str(len(df[(df['goal']==3) | (df['goal']==4)])) ,color.END+ \" individuals who were into serious dating.\"\"\\n Of which only \",color.PURPLE +color.BOLD +str(len(df[ (df['goal']==3) | (df['goal']==4) & (df['match'] == 1) ])) + color.END, \" got the date.\",\"\\n Which means\", color.BOLD + color.GREEN +str(int((682/932)*100)), \" %\"  + color.END, \" success rate.\")"
   ]
  },
  {
   "cell_type": "markdown",
   "metadata": {},
   "source": [
    "#### Hobbies "
   ]
  },
  {
   "cell_type": "code",
   "execution_count": 23,
   "metadata": {},
   "outputs": [
    {
     "data": {
      "image/png": "[encoded data removed]",
      "text/plain": [
       "<Figure size 1080x1080 with 1 Axes>"
      ]
     },
     "metadata": {
      "needs_background": "light"
     },
     "output_type": "display_data"
    }
   ],
   "source": [
    "activities_interested=['sports','tvsports','exercise','dining','museums','art','hiking','gaming','clubbing','reading',\n",
    "                       'tv','theater','movies','concerts','music','shopping','yoga']\n",
    "temp = df.groupby(['gender']).mean()[activities_interested].values\n",
    "\n",
    "g = plt.figure(figsize=(15,15))\n",
    "g = plt.barh(np.arange(0,2*temp.shape[1],2)-0.2,temp[0,:], height=0.5,color=[0,0,1],alpha=0.5,label='Female')\n",
    "g = plt.barh(np.arange(0,2*temp.shape[1],2)+0.2,temp[1,:], height=0.5,color=[0,1,0],alpha=0.5,label='Male')\n",
    "g = plt.yticks(np.arange(0,2*temp.shape[1],2)+0.2,activities_interested,fontsize=16)\n",
    "g = plt.ylim(-1,2*temp.shape[1]+1)\n",
    "g = plt.legend(loc=0,fontsize=16)\n"
   ]
  },
  {
   "cell_type": "markdown",
   "metadata": {},
   "source": [
    "#### Let's check out the relation between SAT score and match"
   ]
  },
  {
   "cell_type": "code",
   "execution_count": 24,
   "metadata": {},
   "outputs": [
    {
     "data": {
      "text/plain": [
       "5245"
      ]
     },
     "execution_count": 24,
     "metadata": {},
     "output_type": "execute_result"
    }
   ],
   "source": [
    "df.mn_sat.isnull().sum()"
   ]
  },
  {
   "cell_type": "code",
   "execution_count": 25,
   "metadata": {},
   "outputs": [],
   "source": [
    "df_new = df[df['mn_sat'].notna()]"
   ]
  },
  {
   "cell_type": "code",
   "execution_count": 26,
   "metadata": {},
   "outputs": [
    {
     "data": {
      "text/plain": [
       "count         3133\n",
       "unique          68\n",
       "top       1,400.00\n",
       "freq           403\n",
       "Name: mn_sat, dtype: object"
      ]
     },
     "execution_count": 26,
     "metadata": {},
     "output_type": "execute_result"
    }
   ],
   "source": [
    "df_new.mn_sat.describe() # some stats here"
   ]
  },
  {
   "cell_type": "code",
   "execution_count": 27,
   "metadata": {},
   "outputs": [],
   "source": [
    "df_new = df_new[['dec_o','mn_sat']]"
   ]
  },
  {
   "cell_type": "code",
   "execution_count": 28,
   "metadata": {},
   "outputs": [
    {
     "data": {
      "text/html": [
       "<div>\n",
       "<style scoped>\n",
       "    .dataframe tbody tr th:only-of-type {\n",
       "        vertical-align: middle;\n",
       "    }\n",
       "\n",
       "    .dataframe tbody tr th {\n",
       "        vertical-align: top;\n",
       "    }\n",
       "\n",
       "    .dataframe thead th {\n",
       "        text-align: right;\n",
       "    }\n",
       "</style>\n",
       "<table border=\"1\" class=\"dataframe\">\n",
       "  <thead>\n",
       "    <tr style=\"text-align: right;\">\n",
       "      <th></th>\n",
       "      <th>mn_sat</th>\n",
       "    </tr>\n",
       "    <tr>\n",
       "      <th>dec_o</th>\n",
       "      <th></th>\n",
       "    </tr>\n",
       "  </thead>\n",
       "  <tbody>\n",
       "    <tr>\n",
       "      <th>0</th>\n",
       "      <td>1,070.00</td>\n",
       "    </tr>\n",
       "    <tr>\n",
       "      <th>1</th>\n",
       "      <td>1,070.00</td>\n",
       "    </tr>\n",
       "  </tbody>\n",
       "</table>\n",
       "</div>"
      ],
      "text/plain": [
       "         mn_sat\n",
       "dec_o          \n",
       "0      1,070.00\n",
       "1      1,070.00"
      ]
     },
     "execution_count": 28,
     "metadata": {},
     "output_type": "execute_result"
    }
   ],
   "source": [
    "df_new.groupby(['dec_o']).first()"
   ]
  },
  {
   "cell_type": "markdown",
   "metadata": {},
   "source": [
    "Interestingly, average score for both acceptance and rejection is same , which means in this study inteligence does not play any role."
   ]
  },
  {
   "cell_type": "markdown",
   "metadata": {},
   "source": [
    "#### oops, we are forgeting about religion and race, lets explore "
   ]
  },
  {
   "cell_type": "code",
   "execution_count": 29,
   "metadata": {},
   "outputs": [
    {
     "data": {
      "text/plain": [
       "79"
      ]
     },
     "execution_count": 29,
     "metadata": {},
     "output_type": "execute_result"
    }
   ],
   "source": [
    "#imprace is the variable indicating importance of race in dating\n",
    "df.imprace.isna().sum()"
   ]
  },
  {
   "cell_type": "code",
   "execution_count": 30,
   "metadata": {},
   "outputs": [
    {
     "data": {
      "text/plain": [
       "79"
      ]
     },
     "execution_count": 30,
     "metadata": {},
     "output_type": "execute_result"
    }
   ],
   "source": [
    "df.imprelig.isna().sum()"
   ]
  },
  {
   "cell_type": "code",
   "execution_count": 31,
   "metadata": {},
   "outputs": [],
   "source": [
    "# Here I am simply dropping null values  since it is very less \n",
    "df_new = df[(df['imprace'].notna()) & (df['imprelig'].notna())]"
   ]
  },
  {
   "cell_type": "code",
   "execution_count": 32,
   "metadata": {},
   "outputs": [],
   "source": [
    "df_new = df_new[['imprace','imprelig','age','gender']]"
   ]
  },
  {
   "cell_type": "code",
   "execution_count": 33,
   "metadata": {},
   "outputs": [],
   "source": [
    "gb = df_new.groupby(['age']).first()"
   ]
  },
  {
   "cell_type": "code",
   "execution_count": 90,
   "metadata": {},
   "outputs": [
    {
     "data": {
      "image/png": "[encoded data removed]",
      "text/plain": [
       "<Figure size 1080x432 with 1 Axes>"
      ]
     },
     "metadata": {
      "needs_background": "light"
     },
     "output_type": "display_data"
    }
   ],
   "source": [
    "fig = plt.figure(figsize=(15,6))\n",
    "ax = fig.add_subplot(1,1,1)\n",
    "ax.plot(gb['imprace'],'g--', label = 'Race')\n",
    "ax.plot(gb['imprelig'],'b',label = 'Religion')\n",
    "ax.legend(loc='best')\n",
    "\n",
    "ax.tick_params(axis='x', which='major', labelsize=15)\n",
    "ax.tick_params(axis='y', which='major', labelsize=15)"
   ]
  },
  {
   "cell_type": "markdown",
   "metadata": {},
   "source": [
    "Interestingly <b>religion matters the most at the age of 27 to 30</b>, but race doesnot show any trends "
   ]
  },
  {
   "cell_type": "code",
   "execution_count": 34,
   "metadata": {},
   "outputs": [
    {
     "data": {
      "text/html": [
       "<div>\n",
       "<style scoped>\n",
       "    .dataframe tbody tr th:only-of-type {\n",
       "        vertical-align: middle;\n",
       "    }\n",
       "\n",
       "    .dataframe tbody tr th {\n",
       "        vertical-align: top;\n",
       "    }\n",
       "\n",
       "    .dataframe thead th {\n",
       "        text-align: right;\n",
       "    }\n",
       "</style>\n",
       "<table border=\"1\" class=\"dataframe\">\n",
       "  <thead>\n",
       "    <tr style=\"text-align: right;\">\n",
       "      <th></th>\n",
       "      <th>imprace</th>\n",
       "      <th>imprelig</th>\n",
       "      <th>age</th>\n",
       "    </tr>\n",
       "    <tr>\n",
       "      <th>gender</th>\n",
       "      <th></th>\n",
       "      <th></th>\n",
       "      <th></th>\n",
       "    </tr>\n",
       "  </thead>\n",
       "  <tbody>\n",
       "    <tr>\n",
       "      <th>0</th>\n",
       "      <td>2.0</td>\n",
       "      <td>4.0</td>\n",
       "      <td>21.0</td>\n",
       "    </tr>\n",
       "    <tr>\n",
       "      <th>1</th>\n",
       "      <td>7.0</td>\n",
       "      <td>3.0</td>\n",
       "      <td>27.0</td>\n",
       "    </tr>\n",
       "  </tbody>\n",
       "</table>\n",
       "</div>"
      ],
      "text/plain": [
       "        imprace  imprelig   age\n",
       "gender                         \n",
       "0           2.0       4.0  21.0\n",
       "1           7.0       3.0  27.0"
      ]
     },
     "execution_count": 34,
     "metadata": {},
     "output_type": "execute_result"
    }
   ],
   "source": [
    "df_new.groupby(['gender']).first()"
   ]
  },
  {
   "cell_type": "code",
   "execution_count": 35,
   "metadata": {},
   "outputs": [],
   "source": [
    "df_new = pd.pivot_table(df_new, index=[\"gender\",\"age\"], aggfunc=np.average)"
   ]
  },
  {
   "cell_type": "code",
   "execution_count": 36,
   "metadata": {},
   "outputs": [
    {
     "data": {
      "text/html": [
       "<div>\n",
       "<style scoped>\n",
       "    .dataframe tbody tr th:only-of-type {\n",
       "        vertical-align: middle;\n",
       "    }\n",
       "\n",
       "    .dataframe tbody tr th {\n",
       "        vertical-align: top;\n",
       "    }\n",
       "\n",
       "    .dataframe thead th {\n",
       "        text-align: right;\n",
       "    }\n",
       "</style>\n",
       "<table border=\"1\" class=\"dataframe\">\n",
       "  <thead>\n",
       "    <tr style=\"text-align: right;\">\n",
       "      <th></th>\n",
       "      <th></th>\n",
       "      <th>imprace</th>\n",
       "      <th>imprelig</th>\n",
       "    </tr>\n",
       "    <tr>\n",
       "      <th>gender</th>\n",
       "      <th>age</th>\n",
       "      <th></th>\n",
       "      <th></th>\n",
       "    </tr>\n",
       "  </thead>\n",
       "  <tbody>\n",
       "    <tr>\n",
       "      <th rowspan=\"5\" valign=\"top\">0</th>\n",
       "      <th>19.0</th>\n",
       "      <td>5.000000</td>\n",
       "      <td>2.000000</td>\n",
       "    </tr>\n",
       "    <tr>\n",
       "      <th>20.0</th>\n",
       "      <td>1.333333</td>\n",
       "      <td>3.000000</td>\n",
       "    </tr>\n",
       "    <tr>\n",
       "      <th>21.0</th>\n",
       "      <td>5.710383</td>\n",
       "      <td>4.868852</td>\n",
       "    </tr>\n",
       "    <tr>\n",
       "      <th>22.0</th>\n",
       "      <td>4.335165</td>\n",
       "      <td>4.464286</td>\n",
       "    </tr>\n",
       "    <tr>\n",
       "      <th>23.0</th>\n",
       "      <td>5.074951</td>\n",
       "      <td>4.568047</td>\n",
       "    </tr>\n",
       "  </tbody>\n",
       "</table>\n",
       "</div>"
      ],
      "text/plain": [
       "              imprace  imprelig\n",
       "gender age                     \n",
       "0      19.0  5.000000  2.000000\n",
       "       20.0  1.333333  3.000000\n",
       "       21.0  5.710383  4.868852\n",
       "       22.0  4.335165  4.464286\n",
       "       23.0  5.074951  4.568047"
      ]
     },
     "execution_count": 36,
     "metadata": {},
     "output_type": "execute_result"
    }
   ],
   "source": [
    "df_new.head()"
   ]
  },
  {
   "cell_type": "code",
   "execution_count": 37,
   "metadata": {},
   "outputs": [
    {
     "data": {
      "text/plain": [
       "gender  age \n",
       "0       19.0    2.000000\n",
       "        20.0    3.000000\n",
       "        21.0    4.868852\n",
       "        22.0    4.464286\n",
       "        23.0    4.568047\n",
       "        24.0    4.477974\n",
       "        25.0    5.158242\n",
       "        26.0    3.781513\n",
       "        27.0    3.979592\n",
       "        28.0    3.136076\n",
       "        29.0    4.819383\n",
       "        30.0    3.838863\n",
       "        31.0    3.296296\n",
       "        32.0    3.315789\n",
       "        33.0    3.208000\n",
       "        34.0    4.024096\n",
       "        35.0    3.466667\n",
       "        36.0    6.280000\n",
       "        38.0    6.000000\n",
       "        55.0    1.000000\n",
       "1       18.0    5.000000\n",
       "        19.0    1.000000\n",
       "        20.0    1.000000\n",
       "        21.0    3.055556\n",
       "        22.0    3.099656\n",
       "        23.0    3.439276\n",
       "        24.0    2.481663\n",
       "        25.0    2.814136\n",
       "        26.0    3.546419\n",
       "        27.0    3.224919\n",
       "        28.0    3.539535\n",
       "        29.0    2.157459\n",
       "        30.0    3.393939\n",
       "        31.0    2.690141\n",
       "        32.0    3.529412\n",
       "        33.0    3.416667\n",
       "        34.0    3.942029\n",
       "        36.0    7.100000\n",
       "        37.0    1.000000\n",
       "        39.0    1.000000\n",
       "        42.0    1.000000\n",
       "Name: imprelig, dtype: float64"
      ]
     },
     "execution_count": 37,
     "metadata": {},
     "output_type": "execute_result"
    }
   ],
   "source": [
    "df_new['imprelig'].loc[:]"
   ]
  },
  {
   "cell_type": "code",
   "execution_count": null,
   "metadata": {},
   "outputs": [],
   "source": []
  },
  {
   "cell_type": "markdown",
   "metadata": {},
   "source": [
    "#### One of my friend told me that womens generally prefer elder boyfriends, let us figure out from this data set"
   ]
  },
  {
   "cell_type": "code",
   "execution_count": 38,
   "metadata": {},
   "outputs": [],
   "source": [
    "df_new = df[(df['gender'] == 0)  & (df['dec_o'] ==1)]"
   ]
  },
  {
   "cell_type": "code",
   "execution_count": 39,
   "metadata": {},
   "outputs": [
    {
     "data": {
      "text/plain": [
       "<matplotlib.axes._subplots.AxesSubplot at 0x7f8274228050>"
      ]
     },
     "execution_count": 39,
     "metadata": {},
     "output_type": "execute_result"
    },
    {
     "data": {
      "image/png": "[encoded data removed]",
      "text/plain": [
       "<Figure size 432x288 with 1 Axes>"
      ]
     },
     "metadata": {
      "needs_background": "light"
     },
     "output_type": "display_data"
    }
   ],
   "source": [
    "df_new.groupby(['age']).age.count().plot()"
   ]
  },
  {
   "cell_type": "markdown",
   "metadata": {},
   "source": [
    "From this graph, it is clear more younger girls were into second date"
   ]
  },
  {
   "cell_type": "markdown",
   "metadata": {},
   "source": [
    "#### What does a person looks for in a partner ?"
   ]
  },
  {
   "cell_type": "markdown",
   "metadata": {},
   "source": [
    "![](look.gif)"
   ]
  },
  {
   "cell_type": "code",
   "execution_count": 91,
   "metadata": {},
   "outputs": [
    {
     "name": "stderr",
     "output_type": "stream",
     "text": [
      "/home/jasp/anaconda3/lib/python3.7/site-packages/ipykernel_launcher.py:3: MatplotlibDeprecationWarning: Adding an axes using the same arguments as a previous axes currently reuses the earlier instance.  In a future version, a new instance will always be created and returned.  Meanwhile, this warning can be suppressed, and the future behavior ensured, by passing a unique label to each axes instance.\n",
      "  This is separate from the ipykernel package so we can avoid doing imports until\n"
     ]
    },
    {
     "data": {
      "text/plain": [
       "Text(0.5, 1.0, 'Attractiveness score for Potential Date')"
      ]
     },
     "execution_count": 91,
     "metadata": {},
     "output_type": "execute_result"
    },
    {
     "data": {
      "image/png": "[encoded data removed]",
      "text/plain": [
       "<Figure size 1080x432 with 1 Axes>"
      ]
     },
     "metadata": {
      "needs_background": "light"
     },
     "output_type": "display_data"
    }
   ],
   "source": [
    "fig= plt.figure(1, figsize=(15, 6))\n",
    "ax=fig.add_subplot(111)\n",
    "ax=fig.add_subplot(111)\n",
    "\n",
    "# Create the boxplot\n",
    "bp = df.boxplot(column='attr1_1',by='gender', ax=ax)\n",
    "ax.tick_params(axis='x', which='major', labelsize=15)\n",
    "ax.set_title(\"Attractiveness score for Potential Date\")\n"
   ]
  },
  {
   "cell_type": "markdown",
   "metadata": {},
   "source": [
    "For ladies out there attractiveness matters less as compared to males"
   ]
  },
  {
   "cell_type": "code",
   "execution_count": 92,
   "metadata": {},
   "outputs": [
    {
     "name": "stderr",
     "output_type": "stream",
     "text": [
      "/home/jasp/anaconda3/lib/python3.7/site-packages/ipykernel_launcher.py:3: MatplotlibDeprecationWarning: Adding an axes using the same arguments as a previous axes currently reuses the earlier instance.  In a future version, a new instance will always be created and returned.  Meanwhile, this warning can be suppressed, and the future behavior ensured, by passing a unique label to each axes instance.\n",
      "  This is separate from the ipykernel package so we can avoid doing imports until\n"
     ]
    },
    {
     "data": {
      "text/plain": [
       "Text(0.5, 1.0, 'Sincerity score for Potential Date')"
      ]
     },
     "execution_count": 92,
     "metadata": {},
     "output_type": "execute_result"
    },
    {
     "data": {
      "image/png": "[encoded data removed]",
      "text/plain": [
       "<Figure size 1080x432 with 1 Axes>"
      ]
     },
     "metadata": {
      "needs_background": "light"
     },
     "output_type": "display_data"
    }
   ],
   "source": [
    "fig= plt.figure(1, figsize=(15, 6))\n",
    "ax=fig.add_subplot(111)\n",
    "ax=fig.add_subplot(111)\n",
    "\n",
    "# Create the boxplot\n",
    "bp = df.boxplot(column='sinc1_1',by='gender', ax=ax)\n",
    "ax.tick_params(axis='x', which='major', labelsize=15)\n",
    "ax.set_title(\"Sincerity score for Potential Date\")"
   ]
  },
  {
   "cell_type": "markdown",
   "metadata": {},
   "source": [
    "As expected girls look for sincerity, <b> but, there are many outliers"
   ]
  },
  {
   "cell_type": "code",
   "execution_count": 280,
   "metadata": {},
   "outputs": [
    {
     "name": "stderr",
     "output_type": "stream",
     "text": [
      "/home/jasp/anaconda3/lib/python3.7/site-packages/ipykernel_launcher.py:3: MatplotlibDeprecationWarning: Adding an axes using the same arguments as a previous axes currently reuses the earlier instance.  In a future version, a new instance will always be created and returned.  Meanwhile, this warning can be suppressed, and the future behavior ensured, by passing a unique label to each axes instance.\n",
      "  This is separate from the ipykernel package so we can avoid doing imports until\n"
     ]
    },
    {
     "data": {
      "text/plain": [
       "Text(0.5, 1.0, 'Intelligience score for Potential Date')"
      ]
     },
     "execution_count": 280,
     "metadata": {},
     "output_type": "execute_result"
    },
    {
     "data": {
      "image/png": "[encoded data removed]",
      "text/plain": [
       "<Figure size 1080x432 with 1 Axes>"
      ]
     },
     "metadata": {
      "needs_background": "light"
     },
     "output_type": "display_data"
    }
   ],
   "source": [
    "fig= plt.figure(1, figsize=(15, 6))\n",
    "ax=fig.add_subplot(111)\n",
    "ax=fig.add_subplot(111)\n",
    "\n",
    "# Create the boxplot\n",
    "bp = df.boxplot(column='intel1_1',by='gender', ax=ax)\n",
    "ax.tick_params(axis='x', which='major', labelsize=15)\n",
    "ax.set_title(\"Intelligience score for Potential Date\")"
   ]
  },
  {
   "cell_type": "code",
   "execution_count": 96,
   "metadata": {},
   "outputs": [
    {
     "name": "stderr",
     "output_type": "stream",
     "text": [
      "/home/jasp/anaconda3/lib/python3.7/site-packages/ipykernel_launcher.py:3: MatplotlibDeprecationWarning: Adding an axes using the same arguments as a previous axes currently reuses the earlier instance.  In a future version, a new instance will always be created and returned.  Meanwhile, this warning can be suppressed, and the future behavior ensured, by passing a unique label to each axes instance.\n",
      "  This is separate from the ipykernel package so we can avoid doing imports until\n"
     ]
    },
    {
     "data": {
      "text/plain": [
       "Text(0.5, 1.0, 'Fun score for Potential Date')"
      ]
     },
     "execution_count": 96,
     "metadata": {},
     "output_type": "execute_result"
    },
    {
     "data": {
      "image/png": "[encoded data removed]",
      "text/plain": [
       "<Figure size 1080x432 with 1 Axes>"
      ]
     },
     "metadata": {
      "needs_background": "light"
     },
     "output_type": "display_data"
    }
   ],
   "source": [
    "fig= plt.figure(1, figsize=(15, 6))\n",
    "ax=fig.add_subplot(111)\n",
    "ax=fig.add_subplot(111)\n",
    "\n",
    "# Create the boxplot\n",
    "bp = df.boxplot(column='fun1_1',by='gender', ax=ax)\n",
    "ax.tick_params(axis='x', which='major', labelsize=15)\n",
    "ax.set_title(\"Fun score for Potential Date\")"
   ]
  },
  {
   "cell_type": "code",
   "execution_count": 98,
   "metadata": {},
   "outputs": [
    {
     "name": "stderr",
     "output_type": "stream",
     "text": [
      "/home/jasp/anaconda3/lib/python3.7/site-packages/ipykernel_launcher.py:3: MatplotlibDeprecationWarning: Adding an axes using the same arguments as a previous axes currently reuses the earlier instance.  In a future version, a new instance will always be created and returned.  Meanwhile, this warning can be suppressed, and the future behavior ensured, by passing a unique label to each axes instance.\n",
      "  This is separate from the ipykernel package so we can avoid doing imports until\n"
     ]
    },
    {
     "data": {
      "text/plain": [
       "Text(0.5, 1.0, 'Ambition score for Potential Date')"
      ]
     },
     "execution_count": 98,
     "metadata": {},
     "output_type": "execute_result"
    },
    {
     "data": {
      "image/png": "[encoded data removed]",
      "text/plain": [
       "<Figure size 1080x432 with 1 Axes>"
      ]
     },
     "metadata": {
      "needs_background": "light"
     },
     "output_type": "display_data"
    }
   ],
   "source": [
    "fig= plt.figure(1, figsize=(15, 6))\n",
    "ax=fig.add_subplot(111)\n",
    "ax=fig.add_subplot(111)\n",
    "\n",
    "# Create the boxplot\n",
    "bp = df.boxplot(column='amb1_1',by='gender', ax=ax)\n",
    "ax.tick_params(axis='x', which='major', labelsize=15)\n",
    "ax.set_title(\"Ambition score for Potential Date\")"
   ]
  },
  {
   "cell_type": "markdown",
   "metadata": {},
   "source": [
    "Ok, so girls look for ambitious boys , but for boys it does'nt matter, <b> also I am amazed to see the unanimity , very less out liers"
   ]
  },
  {
   "cell_type": "code",
   "execution_count": null,
   "metadata": {},
   "outputs": [],
   "source": []
  },
  {
   "cell_type": "code",
   "execution_count": 99,
   "metadata": {},
   "outputs": [
    {
     "name": "stderr",
     "output_type": "stream",
     "text": [
      "/home/jasp/anaconda3/lib/python3.7/site-packages/ipykernel_launcher.py:3: MatplotlibDeprecationWarning: Adding an axes using the same arguments as a previous axes currently reuses the earlier instance.  In a future version, a new instance will always be created and returned.  Meanwhile, this warning can be suppressed, and the future behavior ensured, by passing a unique label to each axes instance.\n",
      "  This is separate from the ipykernel package so we can avoid doing imports until\n"
     ]
    },
    {
     "data": {
      "text/plain": [
       "Text(0.5, 1.0, 'Shared Interest score for Potential Date')"
      ]
     },
     "execution_count": 99,
     "metadata": {},
     "output_type": "execute_result"
    },
    {
     "data": {
      "image/png": "[encoded data removed]",
      "text/plain": [
       "<Figure size 1080x432 with 1 Axes>"
      ]
     },
     "metadata": {
      "needs_background": "light"
     },
     "output_type": "display_data"
    }
   ],
   "source": [
    "fig= plt.figure(1, figsize=(15, 6))\n",
    "ax=fig.add_subplot(111)\n",
    "ax=fig.add_subplot(111)\n",
    "\n",
    "# Create the boxplot\n",
    "bp = df.boxplot(column='shar1_1',by='gender', ax=ax)\n",
    "ax.tick_params(axis='x', which='major', labelsize=15)\n",
    "ax.set_title(\"Shared Interest score for Potential Date\")"
   ]
  },
  {
   "cell_type": "code",
   "execution_count": 114,
   "metadata": {},
   "outputs": [
    {
     "data": {
      "text/plain": [
       "Text(0.5, 1.0, 'Attractiveness ! What do you think your partner looks for you')"
      ]
     },
     "execution_count": 114,
     "metadata": {},
     "output_type": "execute_result"
    },
    {
     "data": {
      "image/png": "[encoded data removed]",
      "text/plain": [
       "<Figure size 1080x1080 with 2 Axes>"
      ]
     },
     "metadata": {
      "needs_background": "light"
     },
     "output_type": "display_data"
    }
   ],
   "source": [
    "fig= plt.figure(1, figsize=(15, 15))\n",
    "ax1=fig.add_subplot(221)\n",
    "ax2=fig.add_subplot(222)\n",
    "\n",
    "# Create the boxplot\n",
    "bp = df.boxplot(column='attr1_1',by='gender', ax=ax1)\n",
    "cd = df.boxplot(column='attr4_1',by='gender', ax=ax2) \n",
    "\n",
    "ax1.tick_params(axis='x', which='major', labelsize=15)\n",
    "ax1.set_title(\"Attractiveness ! What do you look for in partner\")\n",
    "\n",
    "ax2.tick_params(axis='x', which='major', labelsize=15)\n",
    "ax2.set_title(\"Attractiveness ! What do you think your partner looks for you\")\n"
   ]
  },
  {
   "cell_type": "code",
   "execution_count": null,
   "metadata": {},
   "outputs": [],
   "source": []
  },
  {
   "cell_type": "markdown",
   "metadata": {},
   "source": [
    "### Building a machine learning model to predict the chances of getting matched "
   ]
  },
  {
   "cell_type": "markdown",
   "metadata": {},
   "source": [
    "![](box.gif)"
   ]
  },
  {
   "cell_type": "code",
   "execution_count": 44,
   "metadata": {},
   "outputs": [],
   "source": [
    "ml_df = df[['gender','samerace','race_o','attr_o','sinc_o','fun_o','amb_o','shar_o','like_o','prob_o','met_o','age','field_cd','race','imprace','imprelig','goal','sports','tvsports','exercise','dining','museums','art','hiking','gaming','reading','tv','theater','movies','concerts','music','shopping','yoga','exphappy' ,'match']]"
   ]
  },
  {
   "cell_type": "code",
   "execution_count": 45,
   "metadata": {},
   "outputs": [
    {
     "data": {
      "text/plain": [
       "gender         0\n",
       "samerace       0\n",
       "race_o        73\n",
       "attr_o       212\n",
       "sinc_o       287\n",
       "fun_o        360\n",
       "amb_o        722\n",
       "shar_o      1076\n",
       "like_o       250\n",
       "prob_o       318\n",
       "met_o        385\n",
       "age           95\n",
       "field_cd      82\n",
       "race          63\n",
       "imprace       79\n",
       "imprelig      79\n",
       "goal          79\n",
       "sports        79\n",
       "tvsports      79\n",
       "exercise      79\n",
       "dining        79\n",
       "museums       79\n",
       "art           79\n",
       "hiking        79\n",
       "gaming        79\n",
       "reading       79\n",
       "tv            79\n",
       "theater       79\n",
       "movies        79\n",
       "concerts      79\n",
       "music         79\n",
       "shopping      79\n",
       "yoga          79\n",
       "exphappy     101\n",
       "match          0\n",
       "dtype: int64"
      ]
     },
     "execution_count": 45,
     "metadata": {},
     "output_type": "execute_result"
    }
   ],
   "source": [
    "ml_df.isna().sum()"
   ]
  },
  {
   "cell_type": "code",
   "execution_count": 46,
   "metadata": {},
   "outputs": [],
   "source": [
    "# impute the nul values with mean\n",
    "ml_df = ml_df.apply(lambda x: x.fillna(x.mean()),axis=0)"
   ]
  },
  {
   "cell_type": "code",
   "execution_count": 47,
   "metadata": {},
   "outputs": [
    {
     "data": {
      "text/plain": [
       "gender      0\n",
       "samerace    0\n",
       "race_o      0\n",
       "attr_o      0\n",
       "sinc_o      0\n",
       "fun_o       0\n",
       "amb_o       0\n",
       "shar_o      0\n",
       "like_o      0\n",
       "prob_o      0\n",
       "met_o       0\n",
       "age         0\n",
       "field_cd    0\n",
       "race        0\n",
       "imprace     0\n",
       "imprelig    0\n",
       "goal        0\n",
       "sports      0\n",
       "tvsports    0\n",
       "exercise    0\n",
       "dining      0\n",
       "museums     0\n",
       "art         0\n",
       "hiking      0\n",
       "gaming      0\n",
       "reading     0\n",
       "tv          0\n",
       "theater     0\n",
       "movies      0\n",
       "concerts    0\n",
       "music       0\n",
       "shopping    0\n",
       "yoga        0\n",
       "exphappy    0\n",
       "match       0\n",
       "dtype: int64"
      ]
     },
     "execution_count": 47,
     "metadata": {},
     "output_type": "execute_result"
    }
   ],
   "source": [
    "ml_df.isna().sum()"
   ]
  },
  {
   "cell_type": "markdown",
   "metadata": {},
   "source": [
    "#### Logistic Regression "
   ]
  },
  {
   "cell_type": "code",
   "execution_count": 48,
   "metadata": {},
   "outputs": [],
   "source": [
    "from sklearn.model_selection import train_test_split\n",
    "\n",
    "X_train, X_test, y_train, y_test = train_test_split(ml_df.drop('match',axis=1), \n",
    "                                                    ml_df['match'], test_size=0.30)"
   ]
  },
  {
   "cell_type": "code",
   "execution_count": 49,
   "metadata": {},
   "outputs": [
    {
     "name": "stderr",
     "output_type": "stream",
     "text": [
      "/home/jasp/anaconda3/lib/python3.7/site-packages/sklearn/linear_model/_logistic.py:939: ConvergenceWarning: lbfgs failed to converge (status=1):\n",
      "STOP: TOTAL NO. of ITERATIONS REACHED LIMIT.\n",
      "\n",
      "Increase the number of iterations (max_iter) or scale the data as shown in:\n",
      "    https://scikit-learn.org/stable/modules/preprocessing.html.\n",
      "Please also refer to the documentation for alternative solver options:\n",
      "    https://scikit-learn.org/stable/modules/linear_model.html#logistic-regression\n",
      "  extra_warning_msg=_LOGISTIC_SOLVER_CONVERGENCE_MSG)\n"
     ]
    }
   ],
   "source": [
    "# Training and predictions \n",
    "\n",
    "from sklearn.linear_model import LogisticRegression\n",
    "logmodel = LogisticRegression()\n",
    "logmodel.fit(X_train,y_train)\n",
    "predictions = logmodel.predict(X_test)"
   ]
  },
  {
   "cell_type": "code",
   "execution_count": 50,
   "metadata": {},
   "outputs": [
    {
     "name": "stdout",
     "output_type": "stream",
     "text": [
      "              precision    recall  f1-score   support\n",
      "\n",
      "           0       0.86      0.98      0.92      2117\n",
      "           1       0.63      0.18      0.28       397\n",
      "\n",
      "    accuracy                           0.85      2514\n",
      "   macro avg       0.75      0.58      0.60      2514\n",
      "weighted avg       0.83      0.85      0.82      2514\n",
      "\n"
     ]
    }
   ],
   "source": [
    "from sklearn.metrics import classification_report\n",
    "print(classification_report(y_test,predictions))"
   ]
  },
  {
   "cell_type": "code",
   "execution_count": 51,
   "metadata": {},
   "outputs": [],
   "source": [
    "sample = X_test.iloc[0:1]"
   ]
  },
  {
   "cell_type": "code",
   "execution_count": 52,
   "metadata": {},
   "outputs": [
    {
     "data": {
      "text/plain": [
       "pandas.core.frame.DataFrame"
      ]
     },
     "execution_count": 52,
     "metadata": {},
     "output_type": "execute_result"
    }
   ],
   "source": [
    "type(sample)"
   ]
  },
  {
   "cell_type": "code",
   "execution_count": 53,
   "metadata": {},
   "outputs": [
    {
     "data": {
      "text/html": [
       "<div>\n",
       "<style scoped>\n",
       "    .dataframe tbody tr th:only-of-type {\n",
       "        vertical-align: middle;\n",
       "    }\n",
       "\n",
       "    .dataframe tbody tr th {\n",
       "        vertical-align: top;\n",
       "    }\n",
       "\n",
       "    .dataframe thead th {\n",
       "        text-align: right;\n",
       "    }\n",
       "</style>\n",
       "<table border=\"1\" class=\"dataframe\">\n",
       "  <thead>\n",
       "    <tr style=\"text-align: right;\">\n",
       "      <th></th>\n",
       "      <th>gender</th>\n",
       "      <th>samerace</th>\n",
       "      <th>race_o</th>\n",
       "      <th>attr_o</th>\n",
       "      <th>sinc_o</th>\n",
       "      <th>fun_o</th>\n",
       "      <th>amb_o</th>\n",
       "      <th>shar_o</th>\n",
       "      <th>like_o</th>\n",
       "      <th>prob_o</th>\n",
       "      <th>met_o</th>\n",
       "      <th>age</th>\n",
       "      <th>field_cd</th>\n",
       "      <th>race</th>\n",
       "      <th>imprace</th>\n",
       "      <th>imprelig</th>\n",
       "      <th>goal</th>\n",
       "      <th>sports</th>\n",
       "      <th>tvsports</th>\n",
       "      <th>exercise</th>\n",
       "      <th>dining</th>\n",
       "      <th>museums</th>\n",
       "      <th>art</th>\n",
       "      <th>hiking</th>\n",
       "      <th>gaming</th>\n",
       "      <th>reading</th>\n",
       "      <th>tv</th>\n",
       "      <th>theater</th>\n",
       "      <th>movies</th>\n",
       "      <th>concerts</th>\n",
       "      <th>music</th>\n",
       "      <th>shopping</th>\n",
       "      <th>yoga</th>\n",
       "      <th>exphappy</th>\n",
       "    </tr>\n",
       "  </thead>\n",
       "  <tbody>\n",
       "    <tr>\n",
       "      <th>5391</th>\n",
       "      <td>1</td>\n",
       "      <td>0</td>\n",
       "      <td>4.0</td>\n",
       "      <td>8.0</td>\n",
       "      <td>10.0</td>\n",
       "      <td>7.0</td>\n",
       "      <td>10.0</td>\n",
       "      <td>6.0</td>\n",
       "      <td>4.0</td>\n",
       "      <td>3.0</td>\n",
       "      <td>2.0</td>\n",
       "      <td>34.0</td>\n",
       "      <td>1.0</td>\n",
       "      <td>2.0</td>\n",
       "      <td>5.0</td>\n",
       "      <td>5.0</td>\n",
       "      <td>2.0</td>\n",
       "      <td>3.0</td>\n",
       "      <td>1.0</td>\n",
       "      <td>3.0</td>\n",
       "      <td>5.0</td>\n",
       "      <td>9.0</td>\n",
       "      <td>10.0</td>\n",
       "      <td>3.0</td>\n",
       "      <td>3.0</td>\n",
       "      <td>10.0</td>\n",
       "      <td>6.0</td>\n",
       "      <td>8.0</td>\n",
       "      <td>9.0</td>\n",
       "      <td>7.0</td>\n",
       "      <td>7.0</td>\n",
       "      <td>3.0</td>\n",
       "      <td>2.0</td>\n",
       "      <td>5.0</td>\n",
       "    </tr>\n",
       "  </tbody>\n",
       "</table>\n",
       "</div>"
      ],
      "text/plain": [
       "      gender  samerace  race_o  attr_o  sinc_o  fun_o  amb_o  shar_o  like_o  \\\n",
       "5391       1         0     4.0     8.0    10.0    7.0   10.0     6.0     4.0   \n",
       "\n",
       "      prob_o  met_o   age  field_cd  race  imprace  imprelig  goal  sports  \\\n",
       "5391     3.0    2.0  34.0       1.0   2.0      5.0       5.0   2.0     3.0   \n",
       "\n",
       "      tvsports  exercise  dining  museums   art  hiking  gaming  reading   tv  \\\n",
       "5391       1.0       3.0     5.0      9.0  10.0     3.0     3.0     10.0  6.0   \n",
       "\n",
       "      theater  movies  concerts  music  shopping  yoga  exphappy  \n",
       "5391      8.0     9.0       7.0    7.0       3.0   2.0       5.0  "
      ]
     },
     "execution_count": 53,
     "metadata": {},
     "output_type": "execute_result"
    }
   ],
   "source": [
    "sample"
   ]
  },
  {
   "cell_type": "code",
   "execution_count": 54,
   "metadata": {},
   "outputs": [
    {
     "data": {
      "text/plain": [
       "array([0])"
      ]
     },
     "execution_count": 54,
     "metadata": {},
     "output_type": "execute_result"
    }
   ],
   "source": [
    "logmodel.predict(sample)"
   ]
  },
  {
   "cell_type": "markdown",
   "metadata": {},
   "source": [
    "#### Reading a HTML form"
   ]
  },
  {
   "cell_type": "markdown",
   "metadata": {},
   "source": [
    "Supposing that we have a HTML form , and we need to read data from web"
   ]
  },
  {
   "cell_type": "markdown",
   "metadata": {},
   "source": [
    "![](form.png)"
   ]
  },
  {
   "cell_type": "code",
   "execution_count": 55,
   "metadata": {},
   "outputs": [],
   "source": [
    "#reading the html page\n",
    "read_from_html = pd.read_html('form.html')"
   ]
  },
  {
   "cell_type": "code",
   "execution_count": 56,
   "metadata": {},
   "outputs": [
    {
     "data": {
      "text/plain": [
       "1"
      ]
     },
     "execution_count": 56,
     "metadata": {},
     "output_type": "execute_result"
    }
   ],
   "source": [
    "len(read_from_html) # it is read as list of dataframes"
   ]
  },
  {
   "cell_type": "code",
   "execution_count": 57,
   "metadata": {},
   "outputs": [],
   "source": [
    "test = read_from_html[0] # this is the first dataframe"
   ]
  },
  {
   "cell_type": "code",
   "execution_count": 58,
   "metadata": {},
   "outputs": [],
   "source": [
    "test.set_index('Parameter', inplace=True)"
   ]
  },
  {
   "cell_type": "code",
   "execution_count": 59,
   "metadata": {},
   "outputs": [
    {
     "data": {
      "text/html": [
       "<div>\n",
       "<style scoped>\n",
       "    .dataframe tbody tr th:only-of-type {\n",
       "        vertical-align: middle;\n",
       "    }\n",
       "\n",
       "    .dataframe tbody tr th {\n",
       "        vertical-align: top;\n",
       "    }\n",
       "\n",
       "    .dataframe thead th {\n",
       "        text-align: right;\n",
       "    }\n",
       "</style>\n",
       "<table border=\"1\" class=\"dataframe\">\n",
       "  <thead>\n",
       "    <tr style=\"text-align: right;\">\n",
       "      <th>Parameter</th>\n",
       "      <th>gender</th>\n",
       "      <th>samerace</th>\n",
       "      <th>race_o</th>\n",
       "      <th>attr_o</th>\n",
       "      <th>sinc_o</th>\n",
       "      <th>fun_o</th>\n",
       "      <th>amb_o</th>\n",
       "      <th>shar_o</th>\n",
       "      <th>like_o</th>\n",
       "      <th>prob_o</th>\n",
       "      <th>met_o</th>\n",
       "      <th>age</th>\n",
       "      <th>field_cd</th>\n",
       "      <th>race</th>\n",
       "      <th>imprace</th>\n",
       "      <th>imprelig</th>\n",
       "      <th>goal</th>\n",
       "      <th>sports</th>\n",
       "      <th>tvsports</th>\n",
       "      <th>exercise</th>\n",
       "      <th>dining</th>\n",
       "      <th>museums</th>\n",
       "      <th>art</th>\n",
       "      <th>hiking</th>\n",
       "      <th>gaming</th>\n",
       "      <th>reading</th>\n",
       "      <th>tv</th>\n",
       "      <th>theater</th>\n",
       "      <th>movies</th>\n",
       "      <th>concerts</th>\n",
       "      <th>music</th>\n",
       "      <th>shopping</th>\n",
       "      <th>yoga</th>\n",
       "      <th>exphappy</th>\n",
       "    </tr>\n",
       "  </thead>\n",
       "  <tbody>\n",
       "    <tr>\n",
       "      <th>Value</th>\n",
       "      <td>0</td>\n",
       "      <td>0</td>\n",
       "      <td>4</td>\n",
       "      <td>7</td>\n",
       "      <td>6</td>\n",
       "      <td>6</td>\n",
       "      <td>6</td>\n",
       "      <td>5</td>\n",
       "      <td>6</td>\n",
       "      <td>6</td>\n",
       "      <td>2</td>\n",
       "      <td>27</td>\n",
       "      <td>1</td>\n",
       "      <td>6</td>\n",
       "      <td>6</td>\n",
       "      <td>1</td>\n",
       "      <td>1</td>\n",
       "      <td>8</td>\n",
       "      <td>7</td>\n",
       "      <td>8</td>\n",
       "      <td>5</td>\n",
       "      <td>7</td>\n",
       "      <td>7</td>\n",
       "      <td>7</td>\n",
       "      <td>7</td>\n",
       "      <td>9</td>\n",
       "      <td>5</td>\n",
       "      <td>7</td>\n",
       "      <td>9</td>\n",
       "      <td>7</td>\n",
       "      <td>8</td>\n",
       "      <td>4</td>\n",
       "      <td>7</td>\n",
       "      <td>5</td>\n",
       "    </tr>\n",
       "  </tbody>\n",
       "</table>\n",
       "</div>"
      ],
      "text/plain": [
       "Parameter  gender  samerace  race_o  attr_o  sinc_o  fun_o  amb_o  shar_o  \\\n",
       "Value           0         0       4       7       6      6      6       5   \n",
       "\n",
       "Parameter  like_o  prob_o  met_o  age  field_cd  race  imprace  imprelig  \\\n",
       "Value           6       6      2   27         1     6        6         1   \n",
       "\n",
       "Parameter  goal  sports  tvsports  exercise  dining  museums  art  hiking  \\\n",
       "Value         1       8         7         8       5        7    7       7   \n",
       "\n",
       "Parameter  gaming  reading  tv  theater  movies  concerts  music  shopping  \\\n",
       "Value           7        9   5        7       9         7      8         4   \n",
       "\n",
       "Parameter  yoga  exphappy  \n",
       "Value         7         5  "
      ]
     },
     "execution_count": 59,
     "metadata": {},
     "output_type": "execute_result"
    }
   ],
   "source": [
    "test.T # tansposing to fed it to the algorithm"
   ]
  },
  {
   "cell_type": "code",
   "execution_count": 60,
   "metadata": {},
   "outputs": [
    {
     "data": {
      "text/plain": [
       "array([0])"
      ]
     },
     "execution_count": 60,
     "metadata": {},
     "output_type": "execute_result"
    }
   ],
   "source": [
    "logmodel.predict(test.T) # feeding it to the algo"
   ]
  },
  {
   "cell_type": "markdown",
   "metadata": {},
   "source": [
    "<p style=\"font-size:30px;\">\"0\" means no second date for me today!</p>"
   ]
  },
  {
   "cell_type": "markdown",
   "metadata": {},
   "source": [
    "![](sad.gif)"
   ]
  },
  {
   "cell_type": "markdown",
   "metadata": {},
   "source": [
    "Don't loose hope Buddy, will retry with an interactive form"
   ]
  },
  {
   "cell_type": "markdown",
   "metadata": {},
   "source": [
    "### Interactive form in jupyter notebook"
   ]
  },
  {
   "cell_type": "code",
   "execution_count": 61,
   "metadata": {},
   "outputs": [
    {
     "name": "stdout",
     "output_type": "stream",
     "text": [
      "Please enter value for gender value should be between 0 & 1\n",
      "1\n",
      "Please enter value for samerace value should be between 0 & 1\n",
      "0\n",
      "Please enter value for race_o value should be between 0 & 6.0\n",
      "5\n",
      "Please enter value for attr_o value should be between 0 & 10.0\n",
      "5\n",
      "Please enter value for sinc_o value should be between 0 & 10.0\n",
      "6\n",
      "Please enter value for fun_o value should be between 0 & 10.0\n",
      "7\n",
      "Please enter value for amb_o value should be between 0 & 10.0\n",
      "\n",
      "Please enter value for shar_o value should be between 0 & 10.0\n",
      "8\n",
      "Please enter value for like_o value should be between 0 & 10.0\n",
      "5\n",
      "Please enter value for prob_o value should be between 0 & 10.0\n",
      "7\n",
      "Please enter value for met_o value should be between 0 & 7.0\n",
      "6\n",
      "Please enter value for age value should be between 0 & 55.0\n",
      "7\n",
      "Please enter value for field_cd value should be between 0 & 18.0\n",
      "6\n",
      "Please enter value for race value should be between 0 & 6.0\n",
      "7\n",
      "Please enter value for imprace value should be between 0 & 10.0\n",
      "6\n",
      "Please enter value for imprelig value should be between 0 & 10.0\n",
      "7\n",
      "Please enter value for goal value should be between 0 & 6.0\n",
      "6\n",
      "Please enter value for sports value should be between 0 & 10.0\n",
      "7\n",
      "Please enter value for tvsports value should be between 0 & 10.0\n",
      "6\n",
      "Please enter value for exercise value should be between 0 & 10.0\n",
      "7\n",
      "Please enter value for dining value should be between 0 & 10.0\n",
      "6\n",
      "Please enter value for museums value should be between 0 & 10.0\n",
      "7\n",
      "Please enter value for art value should be between 0 & 10.0\n",
      "6\n",
      "Please enter value for hiking value should be between 0 & 10.0\n",
      "7\n",
      "Please enter value for gaming value should be between 0 & 14.0\n",
      "6\n",
      "Please enter value for reading value should be between 0 & 13.0\n",
      "7\n",
      "Please enter value for tv value should be between 0 & 10.0\n",
      "6\n",
      "Please enter value for theater value should be between 0 & 10.0\n",
      "6\n",
      "Please enter value for movies value should be between 0 & 10.0\n",
      "6\n",
      "Please enter value for concerts value should be between 0 & 10.0\n",
      "6\n",
      "Please enter value for music value should be between 0 & 10.0\n",
      "6\n",
      "Please enter value for shopping value should be between 0 & 10.0\n",
      "6\n",
      "Please enter value for yoga value should be between 0 & 10.0\n",
      "6\n",
      "Please enter value for exphappy value should be between 0 & 10.0\n",
      "6\n"
     ]
    }
   ],
   "source": [
    "# The goal is get get input interactively and def it into algo\n",
    "list_inputs = []\n",
    "for col in X_test.columns:\n",
    "    print(\"Please enter value for \" + col + \" value should be between 0 & \"  + str(X_test[col].max()))\n",
    "    list_inputs.append(input())"
   ]
  },
  {
   "cell_type": "code",
   "execution_count": 62,
   "metadata": {},
   "outputs": [
    {
     "data": {
      "text/plain": [
       "['1',\n",
       " '0',\n",
       " '5',\n",
       " '5',\n",
       " '6',\n",
       " '7',\n",
       " '',\n",
       " '8',\n",
       " '5',\n",
       " '7',\n",
       " '6',\n",
       " '7',\n",
       " '6',\n",
       " '7',\n",
       " '6',\n",
       " '7',\n",
       " '6',\n",
       " '7',\n",
       " '6',\n",
       " '7',\n",
       " '6',\n",
       " '7',\n",
       " '6',\n",
       " '7',\n",
       " '6',\n",
       " '7',\n",
       " '6',\n",
       " '6',\n",
       " '6',\n",
       " '6',\n",
       " '6',\n",
       " '6',\n",
       " '6',\n",
       " '6']"
      ]
     },
     "execution_count": 62,
     "metadata": {},
     "output_type": "execute_result"
    }
   ],
   "source": [
    "list_inputs"
   ]
  },
  {
   "cell_type": "code",
   "execution_count": 63,
   "metadata": {},
   "outputs": [],
   "source": [
    "sample_interactive = pd.DataFrame(data  = list_inputs, index=X_test.columns).T"
   ]
  },
  {
   "cell_type": "code",
   "execution_count": 64,
   "metadata": {},
   "outputs": [
    {
     "data": {
      "text/html": [
       "<div>\n",
       "<style scoped>\n",
       "    .dataframe tbody tr th:only-of-type {\n",
       "        vertical-align: middle;\n",
       "    }\n",
       "\n",
       "    .dataframe tbody tr th {\n",
       "        vertical-align: top;\n",
       "    }\n",
       "\n",
       "    .dataframe thead th {\n",
       "        text-align: right;\n",
       "    }\n",
       "</style>\n",
       "<table border=\"1\" class=\"dataframe\">\n",
       "  <thead>\n",
       "    <tr style=\"text-align: right;\">\n",
       "      <th></th>\n",
       "      <th>gender</th>\n",
       "      <th>samerace</th>\n",
       "      <th>race_o</th>\n",
       "      <th>attr_o</th>\n",
       "      <th>sinc_o</th>\n",
       "      <th>fun_o</th>\n",
       "      <th>amb_o</th>\n",
       "      <th>shar_o</th>\n",
       "      <th>like_o</th>\n",
       "      <th>prob_o</th>\n",
       "      <th>met_o</th>\n",
       "      <th>age</th>\n",
       "      <th>field_cd</th>\n",
       "      <th>race</th>\n",
       "      <th>imprace</th>\n",
       "      <th>imprelig</th>\n",
       "      <th>goal</th>\n",
       "      <th>sports</th>\n",
       "      <th>tvsports</th>\n",
       "      <th>exercise</th>\n",
       "      <th>dining</th>\n",
       "      <th>museums</th>\n",
       "      <th>art</th>\n",
       "      <th>hiking</th>\n",
       "      <th>gaming</th>\n",
       "      <th>reading</th>\n",
       "      <th>tv</th>\n",
       "      <th>theater</th>\n",
       "      <th>movies</th>\n",
       "      <th>concerts</th>\n",
       "      <th>music</th>\n",
       "      <th>shopping</th>\n",
       "      <th>yoga</th>\n",
       "      <th>exphappy</th>\n",
       "    </tr>\n",
       "  </thead>\n",
       "  <tbody>\n",
       "    <tr>\n",
       "      <th>0</th>\n",
       "      <td>1</td>\n",
       "      <td>0</td>\n",
       "      <td>5</td>\n",
       "      <td>5</td>\n",
       "      <td>6</td>\n",
       "      <td>7</td>\n",
       "      <td></td>\n",
       "      <td>8</td>\n",
       "      <td>5</td>\n",
       "      <td>7</td>\n",
       "      <td>6</td>\n",
       "      <td>7</td>\n",
       "      <td>6</td>\n",
       "      <td>7</td>\n",
       "      <td>6</td>\n",
       "      <td>7</td>\n",
       "      <td>6</td>\n",
       "      <td>7</td>\n",
       "      <td>6</td>\n",
       "      <td>7</td>\n",
       "      <td>6</td>\n",
       "      <td>7</td>\n",
       "      <td>6</td>\n",
       "      <td>7</td>\n",
       "      <td>6</td>\n",
       "      <td>7</td>\n",
       "      <td>6</td>\n",
       "      <td>6</td>\n",
       "      <td>6</td>\n",
       "      <td>6</td>\n",
       "      <td>6</td>\n",
       "      <td>6</td>\n",
       "      <td>6</td>\n",
       "      <td>6</td>\n",
       "    </tr>\n",
       "  </tbody>\n",
       "</table>\n",
       "</div>"
      ],
      "text/plain": [
       "  gender samerace race_o attr_o sinc_o fun_o amb_o shar_o like_o prob_o met_o  \\\n",
       "0      1        0      5      5      6     7            8      5      7     6   \n",
       "\n",
       "  age field_cd race imprace imprelig goal sports tvsports exercise dining  \\\n",
       "0   7        6    7       6        7    6      7        6        7      6   \n",
       "\n",
       "  museums art hiking gaming reading tv theater movies concerts music shopping  \\\n",
       "0       7   6      7      6       7  6       6      6        6     6        6   \n",
       "\n",
       "  yoga exphappy  \n",
       "0    6        6  "
      ]
     },
     "execution_count": 64,
     "metadata": {},
     "output_type": "execute_result"
    }
   ],
   "source": [
    "sample_interactive"
   ]
  },
  {
   "cell_type": "code",
   "execution_count": 65,
   "metadata": {},
   "outputs": [
    {
     "ename": "ValueError",
     "evalue": "could not convert string to float: ",
     "output_type": "error",
     "traceback": [
      "\u001b[0;31m----------------------------------------------------------------------\u001b[0m",
      "\u001b[0;31mValueError\u001b[0m                           Traceback (most recent call last)",
      "\u001b[0;32m<ipython-input-65-96f73e7a606e>\u001b[0m in \u001b[0;36m<module>\u001b[0;34m()\u001b[0m\n\u001b[0;32m----> 1\u001b[0;31m \u001b[0mlogmodel\u001b[0m\u001b[0;34m.\u001b[0m\u001b[0mpredict\u001b[0m\u001b[0;34m(\u001b[0m\u001b[0msample_interactive\u001b[0m\u001b[0;34m)\u001b[0m\u001b[0;34m\u001b[0m\u001b[0;34m\u001b[0m\u001b[0m\n\u001b[0m",
      "\u001b[0;32m/home/jasp/anaconda3/lib/python3.7/site-packages/sklearn/linear_model/_base.py\u001b[0m in \u001b[0;36mpredict\u001b[0;34m(self, X)\u001b[0m\n\u001b[1;32m    291\u001b[0m             \u001b[0mPredicted\u001b[0m \u001b[0;32mclass\u001b[0m \u001b[0mlabel\u001b[0m \u001b[0mper\u001b[0m \u001b[0msample\u001b[0m\u001b[0;34m.\u001b[0m\u001b[0;34m\u001b[0m\u001b[0;34m\u001b[0m\u001b[0m\n\u001b[1;32m    292\u001b[0m         \"\"\"\n\u001b[0;32m--> 293\u001b[0;31m         \u001b[0mscores\u001b[0m \u001b[0;34m=\u001b[0m \u001b[0mself\u001b[0m\u001b[0;34m.\u001b[0m\u001b[0mdecision_function\u001b[0m\u001b[0;34m(\u001b[0m\u001b[0mX\u001b[0m\u001b[0;34m)\u001b[0m\u001b[0;34m\u001b[0m\u001b[0;34m\u001b[0m\u001b[0m\n\u001b[0m\u001b[1;32m    294\u001b[0m         \u001b[0;32mif\u001b[0m \u001b[0mlen\u001b[0m\u001b[0;34m(\u001b[0m\u001b[0mscores\u001b[0m\u001b[0;34m.\u001b[0m\u001b[0mshape\u001b[0m\u001b[0;34m)\u001b[0m \u001b[0;34m==\u001b[0m \u001b[0;36m1\u001b[0m\u001b[0;34m:\u001b[0m\u001b[0;34m\u001b[0m\u001b[0;34m\u001b[0m\u001b[0m\n\u001b[1;32m    295\u001b[0m             \u001b[0mindices\u001b[0m \u001b[0;34m=\u001b[0m \u001b[0;34m(\u001b[0m\u001b[0mscores\u001b[0m \u001b[0;34m>\u001b[0m \u001b[0;36m0\u001b[0m\u001b[0;34m)\u001b[0m\u001b[0;34m.\u001b[0m\u001b[0mastype\u001b[0m\u001b[0;34m(\u001b[0m\u001b[0mnp\u001b[0m\u001b[0;34m.\u001b[0m\u001b[0mint\u001b[0m\u001b[0;34m)\u001b[0m\u001b[0;34m\u001b[0m\u001b[0;34m\u001b[0m\u001b[0m\n",
      "\u001b[0;32m/home/jasp/anaconda3/lib/python3.7/site-packages/sklearn/linear_model/_base.py\u001b[0m in \u001b[0;36mdecision_function\u001b[0;34m(self, X)\u001b[0m\n\u001b[1;32m    266\u001b[0m         \u001b[0mcheck_is_fitted\u001b[0m\u001b[0;34m(\u001b[0m\u001b[0mself\u001b[0m\u001b[0;34m)\u001b[0m\u001b[0;34m\u001b[0m\u001b[0;34m\u001b[0m\u001b[0m\n\u001b[1;32m    267\u001b[0m \u001b[0;34m\u001b[0m\u001b[0m\n\u001b[0;32m--> 268\u001b[0;31m         \u001b[0mX\u001b[0m \u001b[0;34m=\u001b[0m \u001b[0mcheck_array\u001b[0m\u001b[0;34m(\u001b[0m\u001b[0mX\u001b[0m\u001b[0;34m,\u001b[0m \u001b[0maccept_sparse\u001b[0m\u001b[0;34m=\u001b[0m\u001b[0;34m'csr'\u001b[0m\u001b[0;34m)\u001b[0m\u001b[0;34m\u001b[0m\u001b[0;34m\u001b[0m\u001b[0m\n\u001b[0m\u001b[1;32m    269\u001b[0m \u001b[0;34m\u001b[0m\u001b[0m\n\u001b[1;32m    270\u001b[0m         \u001b[0mn_features\u001b[0m \u001b[0;34m=\u001b[0m \u001b[0mself\u001b[0m\u001b[0;34m.\u001b[0m\u001b[0mcoef_\u001b[0m\u001b[0;34m.\u001b[0m\u001b[0mshape\u001b[0m\u001b[0;34m[\u001b[0m\u001b[0;36m1\u001b[0m\u001b[0;34m]\u001b[0m\u001b[0;34m\u001b[0m\u001b[0;34m\u001b[0m\u001b[0m\n",
      "\u001b[0;32m/home/jasp/anaconda3/lib/python3.7/site-packages/sklearn/utils/validation.py\u001b[0m in \u001b[0;36mcheck_array\u001b[0;34m(array, accept_sparse, accept_large_sparse, dtype, order, copy, force_all_finite, ensure_2d, allow_nd, ensure_min_samples, ensure_min_features, warn_on_dtype, estimator)\u001b[0m\n\u001b[1;32m    513\u001b[0m                     \u001b[0marray\u001b[0m \u001b[0;34m=\u001b[0m \u001b[0marray\u001b[0m\u001b[0;34m.\u001b[0m\u001b[0mastype\u001b[0m\u001b[0;34m(\u001b[0m\u001b[0mdtype\u001b[0m\u001b[0;34m,\u001b[0m \u001b[0mcasting\u001b[0m\u001b[0;34m=\u001b[0m\u001b[0;34m\"unsafe\"\u001b[0m\u001b[0;34m,\u001b[0m \u001b[0mcopy\u001b[0m\u001b[0;34m=\u001b[0m\u001b[0;32mFalse\u001b[0m\u001b[0;34m)\u001b[0m\u001b[0;34m\u001b[0m\u001b[0;34m\u001b[0m\u001b[0m\n\u001b[1;32m    514\u001b[0m                 \u001b[0;32melse\u001b[0m\u001b[0;34m:\u001b[0m\u001b[0;34m\u001b[0m\u001b[0;34m\u001b[0m\u001b[0m\n\u001b[0;32m--> 515\u001b[0;31m                     \u001b[0marray\u001b[0m \u001b[0;34m=\u001b[0m \u001b[0mnp\u001b[0m\u001b[0;34m.\u001b[0m\u001b[0masarray\u001b[0m\u001b[0;34m(\u001b[0m\u001b[0marray\u001b[0m\u001b[0;34m,\u001b[0m \u001b[0morder\u001b[0m\u001b[0;34m=\u001b[0m\u001b[0morder\u001b[0m\u001b[0;34m,\u001b[0m \u001b[0mdtype\u001b[0m\u001b[0;34m=\u001b[0m\u001b[0mdtype\u001b[0m\u001b[0;34m)\u001b[0m\u001b[0;34m\u001b[0m\u001b[0;34m\u001b[0m\u001b[0m\n\u001b[0m\u001b[1;32m    516\u001b[0m             \u001b[0;32mexcept\u001b[0m \u001b[0mComplexWarning\u001b[0m\u001b[0;34m:\u001b[0m\u001b[0;34m\u001b[0m\u001b[0;34m\u001b[0m\u001b[0m\n\u001b[1;32m    517\u001b[0m                 raise ValueError(\"Complex data not supported\\n\"\n",
      "\u001b[0;32m/home/jasp/anaconda3/lib/python3.7/site-packages/numpy/core/_asarray.py\u001b[0m in \u001b[0;36masarray\u001b[0;34m(a, dtype, order)\u001b[0m\n\u001b[1;32m     83\u001b[0m \u001b[0;34m\u001b[0m\u001b[0m\n\u001b[1;32m     84\u001b[0m     \"\"\"\n\u001b[0;32m---> 85\u001b[0;31m     \u001b[0;32mreturn\u001b[0m \u001b[0marray\u001b[0m\u001b[0;34m(\u001b[0m\u001b[0ma\u001b[0m\u001b[0;34m,\u001b[0m \u001b[0mdtype\u001b[0m\u001b[0;34m,\u001b[0m \u001b[0mcopy\u001b[0m\u001b[0;34m=\u001b[0m\u001b[0;32mFalse\u001b[0m\u001b[0;34m,\u001b[0m \u001b[0morder\u001b[0m\u001b[0;34m=\u001b[0m\u001b[0morder\u001b[0m\u001b[0;34m)\u001b[0m\u001b[0;34m\u001b[0m\u001b[0;34m\u001b[0m\u001b[0m\n\u001b[0m\u001b[1;32m     86\u001b[0m \u001b[0;34m\u001b[0m\u001b[0m\n\u001b[1;32m     87\u001b[0m \u001b[0;34m\u001b[0m\u001b[0m\n",
      "\u001b[0;31mValueError\u001b[0m: could not convert string to float: "
     ]
    }
   ],
   "source": [
    "logmodel.predict(sample_interactive)"
   ]
  },
  {
   "cell_type": "markdown",
   "metadata": {},
   "source": [
    "<p style=\"font-size:30px;\">Thanks !</p> Tom is going to venus to understand girls."
   ]
  },
  {
   "cell_type": "markdown",
   "metadata": {},
   "source": [
    "![](bye.gif)"
   ]
  },
  {
   "cell_type": "code",
   "execution_count": null,
   "metadata": {},
   "outputs": [],
   "source": []
  },
  {
   "cell_type": "code",
   "execution_count": null,
   "metadata": {},
   "outputs": [],
   "source": []
  },
  {
   "cell_type": "code",
   "execution_count": null,
   "metadata": {},
   "outputs": [],
   "source": []
  }
 ],
 "metadata": {
  "kernelspec": {
   "display_name": "Python 3",
   "language": "python",
   "name": "python3"
  },
  "language_info": {
   "codemirror_mode": {
    "name": "ipython",
    "version": 3
   },
   "file_extension": ".py",
   "mimetype": "text/x-python",
   "name": "python",
   "nbconvert_exporter": "python",
   "pygments_lexer": "ipython3",
   "version": "3.7.5"
  }
 },
 "nbformat": 4,
 "nbformat_minor": 2
}
